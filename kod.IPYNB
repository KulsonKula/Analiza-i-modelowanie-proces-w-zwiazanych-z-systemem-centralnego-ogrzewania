{
 "cells": [
  {
   "cell_type": "code",
   "execution_count": 1,
   "metadata": {},
   "outputs": [
    {
     "name": "stdout",
     "output_type": "stream",
     "text": [
      "2.13.0\n"
     ]
    }
   ],
   "source": [
    "import matplotlib.pyplot as plt\n",
    "import numpy as np\n",
    "import pandas as pd\n",
    "import seaborn as sns\n",
    "\n",
    "# Make NumPy printouts easier to read.\n",
    "np.set_printoptions(precision=3, suppress=True)\n",
    "\n",
    "import tensorflow as tf\n",
    "print(tf.__version__)"
   ]
  },
  {
   "cell_type": "code",
   "execution_count": 2,
   "metadata": {},
   "outputs": [
    {
     "data": {
      "text/html": [
       "<div>\n",
       "<style scoped>\n",
       "    .dataframe tbody tr th:only-of-type {\n",
       "        vertical-align: middle;\n",
       "    }\n",
       "\n",
       "    .dataframe tbody tr th {\n",
       "        vertical-align: top;\n",
       "    }\n",
       "\n",
       "    .dataframe thead th {\n",
       "        text-align: right;\n",
       "    }\n",
       "</style>\n",
       "<table border=\"1\" class=\"dataframe\">\n",
       "  <thead>\n",
       "    <tr style=\"text-align: right;\">\n",
       "      <th></th>\n",
       "      <th>dzien_tygodnia</th>\n",
       "      <th>czas</th>\n",
       "      <th>przeplyw</th>\n",
       "    </tr>\n",
       "  </thead>\n",
       "  <tbody>\n",
       "    <tr>\n",
       "      <th>0</th>\n",
       "      <td>4</td>\n",
       "      <td>0.000099</td>\n",
       "      <td>252</td>\n",
       "    </tr>\n",
       "    <tr>\n",
       "      <th>1</th>\n",
       "      <td>4</td>\n",
       "      <td>0.000198</td>\n",
       "      <td>78</td>\n",
       "    </tr>\n",
       "    <tr>\n",
       "      <th>2</th>\n",
       "      <td>4</td>\n",
       "      <td>0.000297</td>\n",
       "      <td>253</td>\n",
       "    </tr>\n",
       "    <tr>\n",
       "      <th>3</th>\n",
       "      <td>4</td>\n",
       "      <td>0.000396</td>\n",
       "      <td>192</td>\n",
       "    </tr>\n",
       "    <tr>\n",
       "      <th>4</th>\n",
       "      <td>4</td>\n",
       "      <td>0.000495</td>\n",
       "      <td>8</td>\n",
       "    </tr>\n",
       "    <tr>\n",
       "      <th>...</th>\n",
       "      <td>...</td>\n",
       "      <td>...</td>\n",
       "      <td>...</td>\n",
       "    </tr>\n",
       "    <tr>\n",
       "      <th>369504</th>\n",
       "      <td>2</td>\n",
       "      <td>0.999808</td>\n",
       "      <td>213</td>\n",
       "    </tr>\n",
       "    <tr>\n",
       "      <th>369505</th>\n",
       "      <td>2</td>\n",
       "      <td>0.999856</td>\n",
       "      <td>253</td>\n",
       "    </tr>\n",
       "    <tr>\n",
       "      <th>369506</th>\n",
       "      <td>2</td>\n",
       "      <td>0.999904</td>\n",
       "      <td>186</td>\n",
       "    </tr>\n",
       "    <tr>\n",
       "      <th>369507</th>\n",
       "      <td>2</td>\n",
       "      <td>0.999952</td>\n",
       "      <td>8</td>\n",
       "    </tr>\n",
       "    <tr>\n",
       "      <th>369508</th>\n",
       "      <td>2</td>\n",
       "      <td>1.000000</td>\n",
       "      <td>187</td>\n",
       "    </tr>\n",
       "  </tbody>\n",
       "</table>\n",
       "<p>369509 rows × 3 columns</p>\n",
       "</div>"
      ],
      "text/plain": [
       "        dzien_tygodnia      czas  przeplyw\n",
       "0                    4  0.000099       252\n",
       "1                    4  0.000198        78\n",
       "2                    4  0.000297       253\n",
       "3                    4  0.000396       192\n",
       "4                    4  0.000495         8\n",
       "...                ...       ...       ...\n",
       "369504               2  0.999808       213\n",
       "369505               2  0.999856       253\n",
       "369506               2  0.999904       186\n",
       "369507               2  0.999952         8\n",
       "369508               2  1.000000       187\n",
       "\n",
       "[369509 rows x 3 columns]"
      ]
     },
     "execution_count": 2,
     "metadata": {},
     "output_type": "execute_result"
    }
   ],
   "source": [
    "dataset = pd.read_csv('data_obrobiona/calosc.csv')\n",
    "dataset"
   ]
  },
  {
   "cell_type": "code",
   "execution_count": 3,
   "metadata": {},
   "outputs": [],
   "source": [
    "train_dataset = dataset.sample(frac=0.8, random_state=0)\n",
    "test_dataset = dataset.drop(train_dataset.index)\n",
    "x_train=train_dataset.drop(columns=\"przeplyw\");\n",
    "x_test=test_dataset.drop(columns=\"przeplyw\");\n",
    "y_train=train_dataset.przeplyw;\n",
    "y_test=test_dataset.przeplyw;"
   ]
  },
  {
   "cell_type": "code",
   "execution_count": 4,
   "metadata": {},
   "outputs": [],
   "source": [
    "model = tf.keras.models.Sequential([\n",
    "      # tf.keras.layers.Flatten(input_shape=[2,]),\n",
    "      tf.keras.layers.Dense(128, activation='relu', input_shape=(2,)),\n",
    "      tf.keras.layers.Dense(64, activation='relu'),\n",
    "      tf.keras.layers.Dense(32, activation='relu'),\n",
    "      tf.keras.layers.Dense(1,activation='linear') \n",
    "])\n",
    "\n",
    "model.compile(optimizer=tf.optimizers.Adam(learning_rate=0.01),\n",
    "              loss=\"mse\",\n",
    "              metrics=['mae'])"
   ]
  },
  {
   "cell_type": "code",
   "execution_count": 5,
   "metadata": {},
   "outputs": [
    {
     "name": "stdout",
     "output_type": "stream",
     "text": [
      "Epoch 1/20\n",
      "9238/9238 [==============================] - 6s 656us/step - loss: 5549.0356 - mae: 64.2753\n",
      "Epoch 2/20\n",
      "9238/9238 [==============================] - 6s 656us/step - loss: 5481.3525 - mae: 64.0239\n",
      "Epoch 3/20\n",
      "9238/9238 [==============================] - 6s 656us/step - loss: 5461.2227 - mae: 63.9454\n",
      "Epoch 4/20\n",
      "9238/9238 [==============================] - 6s 643us/step - loss: 5457.0962 - mae: 63.9290\n",
      "Epoch 5/20\n",
      "9238/9238 [==============================] - 6s 659us/step - loss: 5458.3145 - mae: 63.9353\n",
      "Epoch 6/20\n",
      "9238/9238 [==============================] - 6s 655us/step - loss: 5457.5884 - mae: 63.9251\n",
      "Epoch 7/20\n",
      "9238/9238 [==============================] - 6s 653us/step - loss: 5457.3154 - mae: 63.9253\n",
      "Epoch 8/20\n",
      "9238/9238 [==============================] - 6s 655us/step - loss: 5457.4609 - mae: 63.9345\n",
      "Epoch 9/20\n",
      "9238/9238 [==============================] - 6s 662us/step - loss: 5456.8174 - mae: 63.9298\n",
      "Epoch 10/20\n",
      "9238/9238 [==============================] - 6s 684us/step - loss: 5456.0576 - mae: 63.9222\n",
      "Epoch 11/20\n",
      "9238/9238 [==============================] - 6s 655us/step - loss: 5454.0649 - mae: 63.9093\n",
      "Epoch 12/20\n",
      "9238/9238 [==============================] - 6s 654us/step - loss: 5455.0264 - mae: 63.9130\n",
      "Epoch 13/20\n",
      "9238/9238 [==============================] - 6s 653us/step - loss: 5454.7280 - mae: 63.9164\n",
      "Epoch 14/20\n",
      "9238/9238 [==============================] - 6s 664us/step - loss: 5453.6929 - mae: 63.9095\n",
      "Epoch 15/20\n",
      "9238/9238 [==============================] - 6s 647us/step - loss: 5453.8994 - mae: 63.9154\n",
      "Epoch 16/20\n",
      "9238/9238 [==============================] - 6s 646us/step - loss: 5452.5332 - mae: 63.9058\n",
      "Epoch 17/20\n",
      "9238/9238 [==============================] - 6s 650us/step - loss: 5452.7173 - mae: 63.9023\n",
      "Epoch 18/20\n",
      "9238/9238 [==============================] - 6s 645us/step - loss: 5451.4097 - mae: 63.8973\n",
      "Epoch 19/20\n",
      "9238/9238 [==============================] - 6s 641us/step - loss: 5453.1108 - mae: 63.9128\n",
      "Epoch 20/20\n",
      "9238/9238 [==============================] - 6s 650us/step - loss: 5451.7544 - mae: 63.9036\n"
     ]
    },
    {
     "data": {
      "text/plain": [
       "<keras.src.callbacks.History at 0x1cb12b2b6d0>"
      ]
     },
     "execution_count": 5,
     "metadata": {},
     "output_type": "execute_result"
    }
   ],
   "source": [
    "model.fit(x_train, y_train, epochs=20)"
   ]
  },
  {
   "cell_type": "code",
   "execution_count": 6,
   "metadata": {},
   "outputs": [
    {
     "name": "stdout",
     "output_type": "stream",
     "text": [
      "2310/2310 - 1s - loss: 5492.3936 - mae: 64.1770 - 1s/epoch - 489us/step\n"
     ]
    },
    {
     "data": {
      "text/plain": [
       "[5492.3935546875, 64.177001953125]"
      ]
     },
     "execution_count": 6,
     "metadata": {},
     "output_type": "execute_result"
    }
   ],
   "source": [
    "model.evaluate(x_test,  y_test, verbose=2)"
   ]
  }
 ],
 "metadata": {
  "kernelspec": {
   "display_name": "Python 3",
   "language": "python",
   "name": "python3"
  },
  "language_info": {
   "codemirror_mode": {
    "name": "ipython",
    "version": 3
   },
   "file_extension": ".py",
   "mimetype": "text/x-python",
   "name": "python",
   "nbconvert_exporter": "python",
   "pygments_lexer": "ipython3",
   "version": "3.11.5"
  }
 },
 "nbformat": 4,
 "nbformat_minor": 2
}
