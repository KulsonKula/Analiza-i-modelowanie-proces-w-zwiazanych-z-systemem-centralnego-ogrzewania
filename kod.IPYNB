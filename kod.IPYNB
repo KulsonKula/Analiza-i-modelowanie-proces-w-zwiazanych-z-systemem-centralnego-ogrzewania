{
 "cells": [
  {
   "cell_type": "code",
   "execution_count": 8,
   "metadata": {},
   "outputs": [
    {
     "name": "stdout",
     "output_type": "stream",
     "text": [
      "2.15.0\n"
     ]
    }
   ],
   "source": [
    "import matplotlib.pyplot as plt\n",
    "import numpy as np\n",
    "import pandas as pd\n",
    "from tensorflow.keras.layers import Input, Dense, concatenate\n",
    "\n",
    "# Make NumPy printouts easier to read.\n",
    "np.set_printoptions(precision=5, suppress=True)\n",
    "\n",
    "import tensorflow as tf\n",
    "print(tf.__version__)"
   ]
  },
  {
   "cell_type": "code",
   "execution_count": 27,
   "metadata": {},
   "outputs": [
    {
     "name": "stdout",
     "output_type": "stream",
     "text": [
      "[[ 4.       0.0001  19.75   ]\n",
      " [ 4.       0.0002   8.875  ]\n",
      " [ 4.       0.0003  19.8125 ]\n",
      " ...\n",
      " [ 2.       0.9999  15.625  ]\n",
      " [ 2.       0.99995  4.5    ]\n",
      " [ 2.       1.      15.6875 ]]\n"
     ]
    }
   ],
   "source": [
    "dataset = pd.read_csv('data_obrobiona/calosc.csv')\n",
    "\n",
    "dataset"
   ]
  },
  {
   "cell_type": "code",
   "execution_count": 10,
   "metadata": {},
   "outputs": [],
   "source": [
    "train_dataset = dataset.sample(frac=0.8, random_state=0)\n",
    "test_dataset = dataset.drop(train_dataset.index)\n",
    "x_train=train_dataset.drop(columns=\"przeplyw\");\n",
    "x_test=test_dataset.drop(columns=\"przeplyw\");\n",
    "y_train=train_dataset.przeplyw;\n",
    "y_test=test_dataset.przeplyw;\n",
    "train_data=x_train.drop(columns=\"czas\")\n",
    "train_czas=x_train.drop(columns=\"dzien_tygodnia\")"
   ]
  },
  {
   "cell_type": "code",
   "execution_count": 11,
   "metadata": {},
   "outputs": [
    {
     "data": {
      "text/plain": [
       "(295607, 1)"
      ]
     },
     "execution_count": 11,
     "metadata": {},
     "output_type": "execute_result"
    }
   ],
   "source": [
    "train_czas.shape"
   ]
  },
  {
   "cell_type": "code",
   "execution_count": 12,
   "metadata": {},
   "outputs": [
    {
     "name": "stdout",
     "output_type": "stream",
     "text": [
      "WARNING:tensorflow:From c:\\Users\\Kuba\\AppData\\Local\\Programs\\Python\\Python311\\Lib\\site-packages\\keras\\src\\backend.py:873: The name tf.get_default_graph is deprecated. Please use tf.compat.v1.get_default_graph instead.\n",
      "\n"
     ]
    }
   ],
   "source": [
    "model = tf.keras.models.Sequential([\n",
    "      tf.keras.layers.Dense(126, activation='relu', input_shape=(2,)),\n",
    "      tf.keras.layers.Dense(64, activation='relu'),\n",
    "      tf.keras.layers.Dense(32, activation='relu'),\n",
    "      tf.keras.layers.Dense(1,activation='linear') \n",
    "])"
   ]
  },
  {
   "cell_type": "code",
   "execution_count": 13,
   "metadata": {},
   "outputs": [],
   "source": [
    "\n",
    "\n",
    "model.compile(optimizer=tf.optimizers.Adam(learning_rate=0.01),\n",
    "              loss=\"mse\",\n",
    "              metrics=['mae'])"
   ]
  },
  {
   "cell_type": "code",
   "execution_count": 14,
   "metadata": {},
   "outputs": [
    {
     "name": "stdout",
     "output_type": "stream",
     "text": [
      "Epoch 1/5\n",
      "WARNING:tensorflow:From c:\\Users\\Kuba\\AppData\\Local\\Programs\\Python\\Python311\\Lib\\site-packages\\keras\\src\\utils\\tf_utils.py:492: The name tf.ragged.RaggedTensorValue is deprecated. Please use tf.compat.v1.ragged.RaggedTensorValue instead.\n",
      "\n",
      "WARNING:tensorflow:From c:\\Users\\Kuba\\AppData\\Local\\Programs\\Python\\Python311\\Lib\\site-packages\\keras\\src\\engine\\base_layer_utils.py:384: The name tf.executing_eagerly_outside_functions is deprecated. Please use tf.compat.v1.executing_eagerly_outside_functions instead.\n",
      "\n",
      "9238/9238 [==============================] - 24s 2ms/step - loss: 21.8194 - mae: 4.0263\n",
      "Epoch 2/5\n",
      "9238/9238 [==============================] - 23s 2ms/step - loss: 21.3640 - mae: 3.9984\n",
      "Epoch 3/5\n",
      "9238/9238 [==============================] - 20s 2ms/step - loss: 21.3492 - mae: 3.9976\n",
      "Epoch 4/5\n",
      "9238/9238 [==============================] - 21s 2ms/step - loss: 21.3288 - mae: 3.9961\n",
      "Epoch 5/5\n",
      "9238/9238 [==============================] - 21s 2ms/step - loss: 21.3194 - mae: 3.9959\n"
     ]
    },
    {
     "data": {
      "text/plain": [
       "<keras.src.callbacks.History at 0x1a8020413d0>"
      ]
     },
     "execution_count": 14,
     "metadata": {},
     "output_type": "execute_result"
    }
   ],
   "source": [
    "model.fit(x_train, y_train, epochs=5, batch_size=32)"
   ]
  },
  {
   "cell_type": "code",
   "execution_count": 15,
   "metadata": {},
   "outputs": [
    {
     "name": "stdout",
     "output_type": "stream",
     "text": [
      "2310/2310 - 4s - loss: 21.5347 - mae: 4.0164 - 4s/epoch - 2ms/step\n"
     ]
    },
    {
     "data": {
      "text/plain": [
       "[21.534719467163086, 4.016350269317627]"
      ]
     },
     "execution_count": 15,
     "metadata": {},
     "output_type": "execute_result"
    }
   ],
   "source": [
    "model.evaluate(x_test,  y_test, verbose=2)"
   ]
  },
  {
   "cell_type": "code",
   "execution_count": 16,
   "metadata": {},
   "outputs": [],
   "source": [
    "sample_time=2;      #[s]\n",
    "symulation_time=60; #[min]\n",
    "\n",
    "current_hours=23;   #[h]\n",
    "current_minutes=50; #[min]\n",
    "current_day=1;      #[label, pon-1, wt-2,...,nd-7]"
   ]
  },
  {
   "cell_type": "code",
   "execution_count": 17,
   "metadata": {},
   "outputs": [
    {
     "data": {
      "text/plain": [
       "array([[1.     , 0.99306],\n",
       "       [1.     , 0.99308],\n",
       "       [1.     , 0.9931 ],\n",
       "       ...,\n",
       "       [2.     , 0.03468],\n",
       "       [2.     , 0.0347 ],\n",
       "       [2.     , 0.03472]])"
      ]
     },
     "execution_count": 17,
     "metadata": {},
     "output_type": "execute_result"
    }
   ],
   "source": [
    "sample_time_normalized=sample_time/(60*60*24);              #[min - normalized]\n",
    "symulation_time_normlized=symulation_time/(24*60)           #[min - normalized]\n",
    "current_time=(current_hours*60+current_minutes)/(24*60)     #[min - normalized]\n",
    "\n",
    "endtime=current_time+symulation_time_normlized;\n",
    "if endtime<1:\n",
    "    flow_time=np.arange(current_time,endtime,sample_time_normalized)                    #[min - normalized]\n",
    "    flow_time=np.vstack((current_day*np.ones_like(flow_time, dtype=int),flow_time)).T   #[label, min]\n",
    "else:\n",
    "    temp_1=np.arange(current_time,1,sample_time_normalized)                             #[min - normalized]\n",
    "    temp_1=np.vstack((current_day*np.ones_like(temp_1, dtype=int),temp_1)).T            #[label, min]\n",
    "\n",
    "    temp_2=np.arange(0,endtime-1,sample_time_normalized)                                #[min - normalized]\n",
    "    temp_2=np.vstack(((current_day+1)*np.ones_like(temp_2, dtype=int),temp_2)).T        #[label, min] \n",
    "\n",
    "    flow_time=np.concatenate((temp_1,temp_2))                                           #[label, min]\n",
    "flow_time"
   ]
  },
  {
   "cell_type": "code",
   "execution_count": 18,
   "metadata": {},
   "outputs": [
    {
     "name": "stdout",
     "output_type": "stream",
     "text": [
      "57/57 [==============================] - 0s 2ms/step\n"
     ]
    },
    {
     "data": {
      "text/plain": [
       "700.1501302083333"
      ]
     },
     "execution_count": 18,
     "metadata": {},
     "output_type": "execute_result"
    }
   ],
   "source": [
    "flow_result = model.predict(flow_time)                   # [l/min]\n",
    "water_usage_predict=np.sum(flow_result)*(sample_time/60) # [l]\n",
    "\n",
    "water_usage_predict"
   ]
  },
  {
   "cell_type": "code",
   "execution_count": 25,
   "metadata": {},
   "outputs": [
    {
     "data": {
      "text/plain": [
       "1          8.8750\n",
       "4          4.5000\n",
       "21        14.8750\n",
       "22        10.1875\n",
       "27         6.3125\n",
       "           ...   \n",
       "369486    11.2500\n",
       "369494    12.3125\n",
       "369497    12.1875\n",
       "369498    16.2500\n",
       "369499    19.5625\n",
       "Name: przeplyw, Length: 73902, dtype: float64"
      ]
     },
     "execution_count": 25,
     "metadata": {},
     "output_type": "execute_result"
    }
   ],
   "source": [
    "# print(flow_result[5])\n",
    "y_test"
   ]
  }
 ],
 "metadata": {
  "kernelspec": {
   "display_name": "Python 3",
   "language": "python",
   "name": "python3"
  },
  "language_info": {
   "codemirror_mode": {
    "name": "ipython",
    "version": 3
   },
   "file_extension": ".py",
   "mimetype": "text/x-python",
   "name": "python",
   "nbconvert_exporter": "python",
   "pygments_lexer": "ipython3",
   "version": "3.11.0"
  }
 },
 "nbformat": 4,
 "nbformat_minor": 2
}
