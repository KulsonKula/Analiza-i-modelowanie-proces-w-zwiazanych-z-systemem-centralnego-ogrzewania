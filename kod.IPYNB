{
 "cells": [
  {
   "cell_type": "code",
   "execution_count": 58,
   "metadata": {},
   "outputs": [
    {
     "name": "stdout",
     "output_type": "stream",
     "text": [
      "2.13.0\n"
     ]
    }
   ],
   "source": [
    "import matplotlib.pyplot as plt\n",
    "import numpy as np\n",
    "import pandas as pd\n",
    "import seaborn as sns\n",
    "\n",
    "# Make NumPy printouts easier to read.\n",
    "np.set_printoptions(precision=3, suppress=True)\n",
    "\n",
    "import tensorflow as tf\n",
    "print(tf.__version__)"
   ]
  },
  {
   "cell_type": "code",
   "execution_count": 59,
   "metadata": {},
   "outputs": [
    {
     "data": {
      "text/html": [
       "<div>\n",
       "<style scoped>\n",
       "    .dataframe tbody tr th:only-of-type {\n",
       "        vertical-align: middle;\n",
       "    }\n",
       "\n",
       "    .dataframe tbody tr th {\n",
       "        vertical-align: top;\n",
       "    }\n",
       "\n",
       "    .dataframe thead th {\n",
       "        text-align: right;\n",
       "    }\n",
       "</style>\n",
       "<table border=\"1\" class=\"dataframe\">\n",
       "  <thead>\n",
       "    <tr style=\"text-align: right;\">\n",
       "      <th></th>\n",
       "      <th>dzien_tygodnia</th>\n",
       "      <th>czas</th>\n",
       "      <th>przeplyw</th>\n",
       "    </tr>\n",
       "  </thead>\n",
       "  <tbody>\n",
       "    <tr>\n",
       "      <th>0</th>\n",
       "      <td>4</td>\n",
       "      <td>0.000099</td>\n",
       "      <td>252</td>\n",
       "    </tr>\n",
       "    <tr>\n",
       "      <th>1</th>\n",
       "      <td>4</td>\n",
       "      <td>0.000198</td>\n",
       "      <td>78</td>\n",
       "    </tr>\n",
       "    <tr>\n",
       "      <th>2</th>\n",
       "      <td>4</td>\n",
       "      <td>0.000297</td>\n",
       "      <td>253</td>\n",
       "    </tr>\n",
       "    <tr>\n",
       "      <th>3</th>\n",
       "      <td>4</td>\n",
       "      <td>0.000396</td>\n",
       "      <td>192</td>\n",
       "    </tr>\n",
       "    <tr>\n",
       "      <th>4</th>\n",
       "      <td>4</td>\n",
       "      <td>0.000495</td>\n",
       "      <td>8</td>\n",
       "    </tr>\n",
       "    <tr>\n",
       "      <th>...</th>\n",
       "      <td>...</td>\n",
       "      <td>...</td>\n",
       "      <td>...</td>\n",
       "    </tr>\n",
       "    <tr>\n",
       "      <th>369504</th>\n",
       "      <td>2</td>\n",
       "      <td>0.999808</td>\n",
       "      <td>213</td>\n",
       "    </tr>\n",
       "    <tr>\n",
       "      <th>369505</th>\n",
       "      <td>2</td>\n",
       "      <td>0.999856</td>\n",
       "      <td>253</td>\n",
       "    </tr>\n",
       "    <tr>\n",
       "      <th>369506</th>\n",
       "      <td>2</td>\n",
       "      <td>0.999904</td>\n",
       "      <td>186</td>\n",
       "    </tr>\n",
       "    <tr>\n",
       "      <th>369507</th>\n",
       "      <td>2</td>\n",
       "      <td>0.999952</td>\n",
       "      <td>8</td>\n",
       "    </tr>\n",
       "    <tr>\n",
       "      <th>369508</th>\n",
       "      <td>2</td>\n",
       "      <td>1.000000</td>\n",
       "      <td>187</td>\n",
       "    </tr>\n",
       "  </tbody>\n",
       "</table>\n",
       "<p>369509 rows × 3 columns</p>\n",
       "</div>"
      ],
      "text/plain": [
       "        dzien_tygodnia      czas  przeplyw\n",
       "0                    4  0.000099       252\n",
       "1                    4  0.000198        78\n",
       "2                    4  0.000297       253\n",
       "3                    4  0.000396       192\n",
       "4                    4  0.000495         8\n",
       "...                ...       ...       ...\n",
       "369504               2  0.999808       213\n",
       "369505               2  0.999856       253\n",
       "369506               2  0.999904       186\n",
       "369507               2  0.999952         8\n",
       "369508               2  1.000000       187\n",
       "\n",
       "[369509 rows x 3 columns]"
      ]
     },
     "execution_count": 59,
     "metadata": {},
     "output_type": "execute_result"
    }
   ],
   "source": [
    "dataset = pd.read_csv('data_obrobiona/calosc.csv')\n",
    "dataset"
   ]
  },
  {
   "cell_type": "code",
   "execution_count": 60,
   "metadata": {},
   "outputs": [],
   "source": [
    "train_dataset = dataset.sample(frac=0.8, random_state=0)\n",
    "test_dataset = dataset.drop(train_dataset.index)\n",
    "x_train=train_dataset.drop(columns=\"przeplyw\");\n",
    "x_test=test_dataset.drop(columns=\"przeplyw\");\n",
    "y_train=train_dataset.przeplyw;\n",
    "y_test=test_dataset.przeplyw;"
   ]
  },
  {
   "cell_type": "code",
   "execution_count": 61,
   "metadata": {},
   "outputs": [],
   "source": [
    "model = tf.keras.models.Sequential([\n",
    "      # tf.keras.layers.Flatten(input_shape=[2,]),\n",
    "      tf.keras.layers.Dense(128, activation='relu', input_shape=(2,)),\n",
    "      tf.keras.layers.Dense(64, activation='relu'),\n",
    "      tf.keras.layers.Dense(32, activation='relu'),\n",
    "      tf.keras.layers.Dense(16, activation='relu'),\n",
    "      tf.keras.layers.Dense(8, activation='relu'),\n",
    "      tf.keras.layers.Dense(1,activation='linear') \n",
    "])\n",
    "\n",
    "model.compile(optimizer=tf.optimizers.Adam(learning_rate=0.01),\n",
    "              loss=\"mse\",\n",
    "              metrics=['mae'])"
   ]
  },
  {
   "cell_type": "code",
   "execution_count": 62,
   "metadata": {},
   "outputs": [
    {
     "name": "stdout",
     "output_type": "stream",
     "text": [
      "Epoch 1/20\n",
      "9238/9238 [==============================] - 7s 698us/step - loss: 5574.4507 - mae: 64.3972\n",
      "Epoch 2/20\n",
      "9238/9238 [==============================] - 7s 712us/step - loss: 5491.9023 - mae: 64.0624\n",
      "Epoch 3/20\n",
      "9238/9238 [==============================] - 7s 720us/step - loss: 5475.9062 - mae: 63.9888\n",
      "Epoch 4/20\n",
      "9238/9238 [==============================] - 6s 699us/step - loss: 5468.5254 - mae: 63.9681\n",
      "Epoch 5/20\n",
      "9238/9238 [==============================] - 6s 697us/step - loss: 5465.7510 - mae: 63.9634\n",
      "Epoch 6/20\n",
      "9238/9238 [==============================] - 6s 690us/step - loss: 5467.0410 - mae: 63.9721\n",
      "Epoch 7/20\n",
      "9238/9238 [==============================] - 6s 698us/step - loss: 5459.9443 - mae: 63.9399\n",
      "Epoch 8/20\n",
      "9238/9238 [==============================] - 7s 731us/step - loss: 5455.8750 - mae: 63.9199\n",
      "Epoch 9/20\n",
      "9238/9238 [==============================] - 7s 724us/step - loss: 5453.0986 - mae: 63.9079\n",
      "Epoch 10/20\n",
      "9238/9238 [==============================] - 7s 722us/step - loss: 5452.4980 - mae: 63.9049\n",
      "Epoch 11/20\n",
      "9238/9238 [==============================] - 7s 734us/step - loss: 5451.3252 - mae: 63.8979\n",
      "Epoch 12/20\n",
      "9238/9238 [==============================] - 7s 716us/step - loss: 5451.0967 - mae: 63.9009\n",
      "Epoch 13/20\n",
      "9238/9238 [==============================] - 6s 700us/step - loss: 5450.2871 - mae: 63.8963\n",
      "Epoch 14/20\n",
      "9238/9238 [==============================] - 7s 709us/step - loss: 5450.2236 - mae: 63.8950\n",
      "Epoch 15/20\n",
      "9238/9238 [==============================] - 7s 709us/step - loss: 5449.2803 - mae: 63.8924\n",
      "Epoch 16/20\n",
      "9238/9238 [==============================] - 7s 720us/step - loss: 5449.7109 - mae: 63.9006\n",
      "Epoch 17/20\n",
      "9238/9238 [==============================] - 7s 722us/step - loss: 5449.3481 - mae: 63.8981\n",
      "Epoch 18/20\n",
      "9238/9238 [==============================] - 7s 738us/step - loss: 5448.6343 - mae: 63.8904\n",
      "Epoch 19/20\n",
      "9238/9238 [==============================] - 7s 758us/step - loss: 5448.8369 - mae: 63.8946\n",
      "Epoch 20/20\n",
      "9238/9238 [==============================] - 7s 709us/step - loss: 5448.8105 - mae: 63.8934\n"
     ]
    },
    {
     "data": {
      "text/plain": [
       "<keras.src.callbacks.History at 0x16521b81810>"
      ]
     },
     "execution_count": 62,
     "metadata": {},
     "output_type": "execute_result"
    }
   ],
   "source": [
    "model.fit(x_train, y_train, epochs=20)"
   ]
  },
  {
   "cell_type": "code",
   "execution_count": 63,
   "metadata": {},
   "outputs": [
    {
     "name": "stdout",
     "output_type": "stream",
     "text": [
      "2310/2310 - 1s - loss: 5494.4185 - mae: 64.1849 - 1s/epoch - 503us/step\n"
     ]
    },
    {
     "data": {
      "text/plain": [
       "[5494.41845703125, 64.18492126464844]"
      ]
     },
     "execution_count": 63,
     "metadata": {},
     "output_type": "execute_result"
    }
   ],
   "source": [
    "model.evaluate(x_test,  y_test, verbose=2)"
   ]
  }
 ],
 "metadata": {
  "kernelspec": {
   "display_name": "Python 3",
   "language": "python",
   "name": "python3"
  },
  "language_info": {
   "codemirror_mode": {
    "name": "ipython",
    "version": 3
   },
   "file_extension": ".py",
   "mimetype": "text/x-python",
   "name": "python",
   "nbconvert_exporter": "python",
   "pygments_lexer": "ipython3",
   "version": "3.11.5"
  }
 },
 "nbformat": 4,
 "nbformat_minor": 2
}
