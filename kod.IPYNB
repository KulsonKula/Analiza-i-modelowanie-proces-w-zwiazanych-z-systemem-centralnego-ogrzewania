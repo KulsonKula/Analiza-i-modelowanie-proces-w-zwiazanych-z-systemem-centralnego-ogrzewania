{
 "cells": [
  {
   "cell_type": "code",
   "execution_count": 17,
   "metadata": {},
   "outputs": [
    {
     "name": "stdout",
     "output_type": "stream",
     "text": [
      "2.13.0\n"
     ]
    }
   ],
   "source": [
    "import matplotlib.pyplot as plt\n",
    "import numpy as np\n",
    "import pandas as pd\n",
    "from tensorflow.keras.layers import Input, Dense, concatenate\n",
    "\n",
    "# Make NumPy printouts easier to read.\n",
    "np.set_printoptions(precision=5, suppress=True)\n",
    "\n",
    "import tensorflow as tf\n",
    "print(tf.__version__)"
   ]
  },
  {
   "cell_type": "code",
   "execution_count": 18,
   "metadata": {},
   "outputs": [
    {
     "data": {
      "text/html": [
       "<div>\n",
       "<style scoped>\n",
       "    .dataframe tbody tr th:only-of-type {\n",
       "        vertical-align: middle;\n",
       "    }\n",
       "\n",
       "    .dataframe tbody tr th {\n",
       "        vertical-align: top;\n",
       "    }\n",
       "\n",
       "    .dataframe thead th {\n",
       "        text-align: right;\n",
       "    }\n",
       "</style>\n",
       "<table border=\"1\" class=\"dataframe\">\n",
       "  <thead>\n",
       "    <tr style=\"text-align: right;\">\n",
       "      <th></th>\n",
       "      <th>dzien_tygodnia</th>\n",
       "      <th>czas</th>\n",
       "      <th>przeplyw</th>\n",
       "    </tr>\n",
       "  </thead>\n",
       "  <tbody>\n",
       "    <tr>\n",
       "      <th>0</th>\n",
       "      <td>4</td>\n",
       "      <td>0.009907</td>\n",
       "      <td>19.7500</td>\n",
       "    </tr>\n",
       "    <tr>\n",
       "      <th>1</th>\n",
       "      <td>4</td>\n",
       "      <td>0.019815</td>\n",
       "      <td>8.8750</td>\n",
       "    </tr>\n",
       "    <tr>\n",
       "      <th>2</th>\n",
       "      <td>4</td>\n",
       "      <td>0.029722</td>\n",
       "      <td>19.8125</td>\n",
       "    </tr>\n",
       "    <tr>\n",
       "      <th>3</th>\n",
       "      <td>4</td>\n",
       "      <td>0.039629</td>\n",
       "      <td>16.0000</td>\n",
       "    </tr>\n",
       "    <tr>\n",
       "      <th>4</th>\n",
       "      <td>4</td>\n",
       "      <td>0.049537</td>\n",
       "      <td>4.5000</td>\n",
       "    </tr>\n",
       "    <tr>\n",
       "      <th>...</th>\n",
       "      <td>...</td>\n",
       "      <td>...</td>\n",
       "      <td>...</td>\n",
       "    </tr>\n",
       "    <tr>\n",
       "      <th>369504</th>\n",
       "      <td>2</td>\n",
       "      <td>99.980900</td>\n",
       "      <td>17.3125</td>\n",
       "    </tr>\n",
       "    <tr>\n",
       "      <th>369505</th>\n",
       "      <td>2</td>\n",
       "      <td>99.985600</td>\n",
       "      <td>19.8125</td>\n",
       "    </tr>\n",
       "    <tr>\n",
       "      <th>369506</th>\n",
       "      <td>2</td>\n",
       "      <td>99.990400</td>\n",
       "      <td>15.6250</td>\n",
       "    </tr>\n",
       "    <tr>\n",
       "      <th>369507</th>\n",
       "      <td>2</td>\n",
       "      <td>99.995200</td>\n",
       "      <td>4.5000</td>\n",
       "    </tr>\n",
       "    <tr>\n",
       "      <th>369508</th>\n",
       "      <td>2</td>\n",
       "      <td>100.000000</td>\n",
       "      <td>15.6875</td>\n",
       "    </tr>\n",
       "  </tbody>\n",
       "</table>\n",
       "<p>369509 rows × 3 columns</p>\n",
       "</div>"
      ],
      "text/plain": [
       "        dzien_tygodnia        czas  przeplyw\n",
       "0                    4    0.009907   19.7500\n",
       "1                    4    0.019815    8.8750\n",
       "2                    4    0.029722   19.8125\n",
       "3                    4    0.039629   16.0000\n",
       "4                    4    0.049537    4.5000\n",
       "...                ...         ...       ...\n",
       "369504               2   99.980900   17.3125\n",
       "369505               2   99.985600   19.8125\n",
       "369506               2   99.990400   15.6250\n",
       "369507               2   99.995200    4.5000\n",
       "369508               2  100.000000   15.6875\n",
       "\n",
       "[369509 rows x 3 columns]"
      ]
     },
     "execution_count": 18,
     "metadata": {},
     "output_type": "execute_result"
    }
   ],
   "source": [
    "dataset = pd.read_csv('data_obrobiona/calosc.csv')\n",
    "\n",
    "dataset"
   ]
  },
  {
   "cell_type": "code",
   "execution_count": 19,
   "metadata": {},
   "outputs": [],
   "source": [
    "train_dataset = dataset.sample(frac=0.8, random_state=0)\n",
    "test_dataset = dataset.drop(train_dataset.index)\n",
    "x_train=train_dataset.drop(columns=\"przeplyw\");\n",
    "x_test=test_dataset.drop(columns=\"przeplyw\");\n",
    "y_train=train_dataset.przeplyw;\n",
    "y_test=test_dataset.przeplyw;\n",
    "train_data=x_train.drop(columns=\"czas\")\n",
    "train_czas=x_train.drop(columns=\"dzien_tygodnia\")"
   ]
  },
  {
   "cell_type": "code",
   "execution_count": 20,
   "metadata": {},
   "outputs": [
    {
     "data": {
      "text/plain": [
       "(295607, 1)"
      ]
     },
     "execution_count": 20,
     "metadata": {},
     "output_type": "execute_result"
    }
   ],
   "source": [
    "train_czas.shape"
   ]
  },
  {
   "cell_type": "code",
   "execution_count": 21,
   "metadata": {},
   "outputs": [],
   "source": [
    "model = tf.keras.models.Sequential([\n",
    "      tf.keras.layers.Dense(126, activation='relu', input_shape=(2,)),\n",
    "      tf.keras.layers.Dense(64, activation='relu'),\n",
    "      tf.keras.layers.Dense(32, activation='relu'),\n",
    "      tf.keras.layers.Dense(1,activation='linear') \n",
    "])"
   ]
  },
  {
   "cell_type": "code",
   "execution_count": 22,
   "metadata": {},
   "outputs": [],
   "source": [
    "\n",
    "\n",
    "model.compile(optimizer=tf.optimizers.Adam(learning_rate=0.01),\n",
    "              loss=\"mse\",\n",
    "              metrics=['mae'])"
   ]
  },
  {
   "cell_type": "code",
   "execution_count": 23,
   "metadata": {},
   "outputs": [
    {
     "name": "stdout",
     "output_type": "stream",
     "text": [
      "Epoch 1/5\n",
      "9238/9238 [==============================] - 7s 731us/step - loss: 21.8988 - mae: 4.0315\n",
      "Epoch 2/5\n",
      "9238/9238 [==============================] - 7s 715us/step - loss: 21.3336 - mae: 3.9958\n",
      "Epoch 3/5\n",
      "9238/9238 [==============================] - 7s 732us/step - loss: 21.3268 - mae: 3.9962\n",
      "Epoch 4/5\n",
      "9238/9238 [==============================] - 6s 697us/step - loss: 21.3194 - mae: 3.9955\n",
      "Epoch 5/5\n",
      "9238/9238 [==============================] - 6s 687us/step - loss: 21.3169 - mae: 3.9956\n"
     ]
    },
    {
     "data": {
      "text/plain": [
       "<keras.src.callbacks.History at 0x1be2f8329d0>"
      ]
     },
     "execution_count": 23,
     "metadata": {},
     "output_type": "execute_result"
    }
   ],
   "source": [
    "model.fit(x_train, y_train, epochs=5, batch_size=32)"
   ]
  },
  {
   "cell_type": "code",
   "execution_count": 24,
   "metadata": {},
   "outputs": [
    {
     "name": "stdout",
     "output_type": "stream",
     "text": [
      "2310/2310 - 1s - loss: 21.6090 - mae: 4.0211 - 1s/epoch - 561us/step\n"
     ]
    },
    {
     "data": {
      "text/plain": [
       "[21.608963012695312, 4.021121501922607]"
      ]
     },
     "execution_count": 24,
     "metadata": {},
     "output_type": "execute_result"
    }
   ],
   "source": [
    "model.evaluate(x_test,  y_test, verbose=2)"
   ]
  },
  {
   "cell_type": "code",
   "execution_count": 25,
   "metadata": {},
   "outputs": [],
   "source": [
    "sample_time=2;      #[s]\n",
    "symulation_time=60; #[min]\n",
    "\n",
    "current_hours=12;   #[h]\n",
    "current_minutes=00; #[min]\n",
    "current_day=1;      #[label, pon-1, wt-2,...,nd-7]"
   ]
  },
  {
   "cell_type": "code",
   "execution_count": 26,
   "metadata": {},
   "outputs": [
    {
     "data": {
      "text/plain": [
       "array([[1.     , 0.5    ],\n",
       "       [1.     , 0.50002],\n",
       "       [1.     , 0.50005],\n",
       "       ...,\n",
       "       [1.     , 0.5416 ],\n",
       "       [1.     , 0.54162],\n",
       "       [1.     , 0.54164]])"
      ]
     },
     "execution_count": 26,
     "metadata": {},
     "output_type": "execute_result"
    }
   ],
   "source": [
    "sample_time_normalized=sample_time/(60*60*24);              #[min - normalized]\n",
    "symulation_time_normlized=symulation_time/(24*60)           #[min - normalized]\n",
    "current_time=(current_hours*60+current_minutes)/(24*60)     #[min - normalized]\n",
    "\n",
    "endtime=current_time+symulation_time_normlized;\n",
    "if endtime<1:\n",
    "    flow_time=np.arange(current_time,endtime,sample_time_normalized)                    #[min - normalized]\n",
    "    flow_time=np.vstack((current_day*np.ones_like(flow_time, dtype=int),flow_time)).T   #[label, min]\n",
    "else:\n",
    "    temp_1=np.arange(current_time,1,sample_time_normalized)                             #[min - normalized]\n",
    "    temp_1=np.vstack((current_day*np.ones_like(temp_1, dtype=int),temp_1)).T            #[label, min]\n",
    "\n",
    "    temp_2=np.arange(0,endtime-1,sample_time_normalized)                                #[min - normalized]\n",
    "    temp_2=np.vstack(((current_day+1)*np.ones_like(temp_2, dtype=int),temp_2)).T        #[label, min] \n",
    "\n",
    "    flow_time=np.concatenate((temp_1,temp_2))                                           #[label, min]\n",
    "flow_time"
   ]
  },
  {
   "cell_type": "code",
   "execution_count": 27,
   "metadata": {},
   "outputs": [
    {
     "name": "stdout",
     "output_type": "stream",
     "text": [
      "57/57 [==============================] - 0s 538us/step\n"
     ]
    },
    {
     "data": {
      "text/plain": [
       "693.7286458333333"
      ]
     },
     "execution_count": 27,
     "metadata": {},
     "output_type": "execute_result"
    }
   ],
   "source": [
    "flow_result = model.predict(flow_time)                   # [l/min]\n",
    "water_usage_predict=np.sum(flow_result)*(sample_time/60) # [l]\n",
    "\n",
    "water_usage_predict"
   ]
  },
  {
   "cell_type": "code",
   "execution_count": 28,
   "metadata": {},
   "outputs": [
    {
     "data": {
      "text/plain": [
       "array([[11.56214],\n",
       "       [11.56214],\n",
       "       [11.56214],\n",
       "       ...,\n",
       "       [11.56214],\n",
       "       [11.56214],\n",
       "       [11.56214]], dtype=float32)"
      ]
     },
     "execution_count": 28,
     "metadata": {},
     "output_type": "execute_result"
    }
   ],
   "source": [
    "flow_result"
   ]
  }
 ],
 "metadata": {
  "kernelspec": {
   "display_name": "Python 3",
   "language": "python",
   "name": "python3"
  },
  "language_info": {
   "codemirror_mode": {
    "name": "ipython",
    "version": 3
   },
   "file_extension": ".py",
   "mimetype": "text/x-python",
   "name": "python",
   "nbconvert_exporter": "python",
   "pygments_lexer": "ipython3",
   "version": "3.11.5"
  }
 },
 "nbformat": 4,
 "nbformat_minor": 2
}
