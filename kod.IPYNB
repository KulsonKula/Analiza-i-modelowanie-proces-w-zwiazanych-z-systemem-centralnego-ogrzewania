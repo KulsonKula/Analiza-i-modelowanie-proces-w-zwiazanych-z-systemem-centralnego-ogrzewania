{
 "cells": [
  {
   "cell_type": "code",
   "execution_count": 1,
   "metadata": {},
   "outputs": [
    {
     "name": "stdout",
     "output_type": "stream",
     "text": [
      "WARNING:tensorflow:From c:\\Users\\Kuba\\AppData\\Local\\Programs\\Python\\Python311\\Lib\\site-packages\\keras\\src\\losses.py:2976: The name tf.losses.sparse_softmax_cross_entropy is deprecated. Please use tf.compat.v1.losses.sparse_softmax_cross_entropy instead.\n",
      "\n",
      "2.15.0\n"
     ]
    }
   ],
   "source": [
    "import tensorflow as tf\n",
    "import numpy as np\n",
    "import pandas as pd\n",
    "from sklearn.model_selection import train_test_split\n",
    "import matplotlib.pyplot as plt\n",
    "\n",
    "# Make NumPy printouts easier to read.\n",
    "np.set_printoptions(precision=5, suppress=True)\n",
    "\n",
    "print(tf.__version__)"
   ]
  },
  {
   "cell_type": "code",
   "execution_count": 3,
   "metadata": {},
   "outputs": [
    {
     "name": "stdout",
     "output_type": "stream",
     "text": [
      "Num GPUs Available:  0\n"
     ]
    }
   ],
   "source": [
    "print(\"Num GPUs Available: \", len(tf.config.list_physical_devices('GPU')))"
   ]
  },
  {
   "cell_type": "markdown",
   "metadata": {},
   "source": [
    "MODEL A - CAŁOŚĆ DANYCH"
   ]
  },
  {
   "cell_type": "code",
   "execution_count": 2,
   "metadata": {},
   "outputs": [
    {
     "data": {
      "text/html": [
       "<div>\n",
       "<style scoped>\n",
       "    .dataframe tbody tr th:only-of-type {\n",
       "        vertical-align: middle;\n",
       "    }\n",
       "\n",
       "    .dataframe tbody tr th {\n",
       "        vertical-align: top;\n",
       "    }\n",
       "\n",
       "    .dataframe thead th {\n",
       "        text-align: right;\n",
       "    }\n",
       "</style>\n",
       "<table border=\"1\" class=\"dataframe\">\n",
       "  <thead>\n",
       "    <tr style=\"text-align: right;\">\n",
       "      <th></th>\n",
       "      <th>Pora_roku</th>\n",
       "      <th>Dzien_tygodnia</th>\n",
       "      <th>Czas_dnia</th>\n",
       "      <th>Przeplyw</th>\n",
       "    </tr>\n",
       "  </thead>\n",
       "  <tbody>\n",
       "    <tr>\n",
       "      <th>0</th>\n",
       "      <td>2.0</td>\n",
       "      <td>1.0</td>\n",
       "      <td>0.000000</td>\n",
       "      <td>0.0</td>\n",
       "    </tr>\n",
       "    <tr>\n",
       "      <th>1</th>\n",
       "      <td>2.0</td>\n",
       "      <td>1.0</td>\n",
       "      <td>0.000694</td>\n",
       "      <td>0.0</td>\n",
       "    </tr>\n",
       "    <tr>\n",
       "      <th>2</th>\n",
       "      <td>2.0</td>\n",
       "      <td>1.0</td>\n",
       "      <td>0.001389</td>\n",
       "      <td>0.0</td>\n",
       "    </tr>\n",
       "    <tr>\n",
       "      <th>3</th>\n",
       "      <td>2.0</td>\n",
       "      <td>1.0</td>\n",
       "      <td>0.002083</td>\n",
       "      <td>0.0</td>\n",
       "    </tr>\n",
       "    <tr>\n",
       "      <th>4</th>\n",
       "      <td>2.0</td>\n",
       "      <td>1.0</td>\n",
       "      <td>0.002778</td>\n",
       "      <td>0.0</td>\n",
       "    </tr>\n",
       "    <tr>\n",
       "      <th>...</th>\n",
       "      <td>...</td>\n",
       "      <td>...</td>\n",
       "      <td>...</td>\n",
       "      <td>...</td>\n",
       "    </tr>\n",
       "    <tr>\n",
       "      <th>12418555</th>\n",
       "      <td>1.0</td>\n",
       "      <td>7.0</td>\n",
       "      <td>0.996528</td>\n",
       "      <td>0.0</td>\n",
       "    </tr>\n",
       "    <tr>\n",
       "      <th>12418556</th>\n",
       "      <td>1.0</td>\n",
       "      <td>7.0</td>\n",
       "      <td>0.997222</td>\n",
       "      <td>0.0</td>\n",
       "    </tr>\n",
       "    <tr>\n",
       "      <th>12418557</th>\n",
       "      <td>1.0</td>\n",
       "      <td>7.0</td>\n",
       "      <td>0.997917</td>\n",
       "      <td>0.0</td>\n",
       "    </tr>\n",
       "    <tr>\n",
       "      <th>12418558</th>\n",
       "      <td>1.0</td>\n",
       "      <td>7.0</td>\n",
       "      <td>0.998611</td>\n",
       "      <td>0.0</td>\n",
       "    </tr>\n",
       "    <tr>\n",
       "      <th>12418559</th>\n",
       "      <td>1.0</td>\n",
       "      <td>7.0</td>\n",
       "      <td>0.999306</td>\n",
       "      <td>0.0</td>\n",
       "    </tr>\n",
       "  </tbody>\n",
       "</table>\n",
       "<p>12418560 rows × 4 columns</p>\n",
       "</div>"
      ],
      "text/plain": [
       "          Pora_roku  Dzien_tygodnia  Czas_dnia  Przeplyw\n",
       "0               2.0             1.0   0.000000       0.0\n",
       "1               2.0             1.0   0.000694       0.0\n",
       "2               2.0             1.0   0.001389       0.0\n",
       "3               2.0             1.0   0.002083       0.0\n",
       "4               2.0             1.0   0.002778       0.0\n",
       "...             ...             ...        ...       ...\n",
       "12418555        1.0             7.0   0.996528       0.0\n",
       "12418556        1.0             7.0   0.997222       0.0\n",
       "12418557        1.0             7.0   0.997917       0.0\n",
       "12418558        1.0             7.0   0.998611       0.0\n",
       "12418559        1.0             7.0   0.999306       0.0\n",
       "\n",
       "[12418560 rows x 4 columns]"
      ]
     },
     "execution_count": 2,
     "metadata": {},
     "output_type": "execute_result"
    }
   ],
   "source": [
    "dataset = pd.read_csv('../dane_scalone.csv')\n",
    "\n",
    "dataset"
   ]
  },
  {
   "cell_type": "code",
   "execution_count": 4,
   "metadata": {},
   "outputs": [
    {
     "name": "stdout",
     "output_type": "stream",
     "text": [
      "WARNING:tensorflow:From c:\\Users\\Kuba\\AppData\\Local\\Programs\\Python\\Python311\\Lib\\site-packages\\keras\\src\\backend.py:873: The name tf.get_default_graph is deprecated. Please use tf.compat.v1.get_default_graph instead.\n",
      "\n"
     ]
    }
   ],
   "source": [
    "dataset=dataset.drop(columns=\"Pora_roku\")\n",
    "dataset['Czas_dnia'] = dataset['Czas_dnia'] * 100\n",
    "x=dataset.drop(columns=\"Przeplyw\")\n",
    "y=dataset.drop(columns=\"Dzien_tygodnia\")\n",
    "y=y.drop(columns=\"Czas_dnia\")\n",
    "\n",
    "x_train, x_test, y_train, y_test = train_test_split(x, y, test_size=0.2, random_state=42)\n",
    "\n",
    "model = tf.keras.models.Sequential([\n",
    "      tf.keras.layers.Dense(128, activation='relu', input_shape=(2,)),\n",
    "      tf.keras.layers.Dense(64, activation='relu'),\n",
    "      tf.keras.layers.Dense(32, activation='relu'),\n",
    "      tf.keras.layers.Dense(1,activation='linear') \n",
    "])\n",
    "\n",
    "model.compile(optimizer=tf.optimizers.Adam(learning_rate=0.01),\n",
    "              loss=\"mse\",\n",
    "              metrics=['mae'])"
   ]
  },
  {
   "cell_type": "code",
   "execution_count": 6,
   "metadata": {},
   "outputs": [
    {
     "name": "stdout",
     "output_type": "stream",
     "text": [
      "Epoch 1/5\n",
      "77616/77616 [==============================] - 61s 776us/step - loss: 0.7057 - mae: 0.1647\n",
      "Epoch 2/5\n",
      "77616/77616 [==============================] - 61s 780us/step - loss: 0.7045 - mae: 0.1642\n",
      "Epoch 3/5\n",
      "77616/77616 [==============================] - 59s 761us/step - loss: 0.7045 - mae: 0.1642\n",
      "Epoch 4/5\n",
      "77616/77616 [==============================] - 59s 760us/step - loss: 0.7045 - mae: 0.1642\n",
      "Epoch 5/5\n",
      "77616/77616 [==============================] - 60s 769us/step - loss: 0.7045 - mae: 0.1642\n"
     ]
    },
    {
     "data": {
      "text/plain": [
       "<keras.src.callbacks.History at 0x144838dbf90>"
      ]
     },
     "execution_count": 6,
     "metadata": {},
     "output_type": "execute_result"
    }
   ],
   "source": [
    "model.fit(x_train, y_train, epochs=5, batch_size=128)"
   ]
  },
  {
   "cell_type": "code",
   "execution_count": 7,
   "metadata": {},
   "outputs": [
    {
     "name": "stdout",
     "output_type": "stream",
     "text": [
      "19404/19404 [==============================] - 12s 600us/step - loss: 0.7079 - mae: 0.1779\n"
     ]
    },
    {
     "data": {
      "text/plain": [
       "[0.7079479098320007, 0.17792056500911713]"
      ]
     },
     "execution_count": 7,
     "metadata": {},
     "output_type": "execute_result"
    }
   ],
   "source": [
    "model.evaluate(x_test, y_test, batch_size=128)"
   ]
  },
  {
   "cell_type": "code",
   "execution_count": 8,
   "metadata": {},
   "outputs": [
    {
     "name": "stdout",
     "output_type": "stream",
     "text": [
      "113/113 [==============================] - 0s 666us/step\n"
     ]
    },
    {
     "data": {
      "text/plain": [
       "[<matplotlib.lines.Line2D at 0x144b1aa2290>,\n",
       " <matplotlib.lines.Line2D at 0x144b1b47f50>]"
      ]
     },
     "execution_count": 8,
     "metadata": {},
     "output_type": "execute_result"
    },
    {
     "data": {
      "image/png": "[encoded data removed]",
      "text/plain": [
       "<Figure size 640x480 with 1 Axes>"
      ]
     },
     "metadata": {},
     "output_type": "display_data"
    }
   ],
   "source": [
    "flow_time=np.arange(0,1,1/3600) \n",
    "flow_time=np.vstack((1*np.ones_like(flow_time, dtype=int),flow_time)).T\n",
    "flow_result = model.predict(flow_time)\n",
    "\n",
    "plt.plot(flow_time, flow_result)"
   ]
  },
  {
   "cell_type": "markdown",
   "metadata": {},
   "source": [
    "MODEL B - TYLKO JEDEN DZIEŃ TYGODANIA\n"
   ]
  },
  {
   "cell_type": "markdown",
   "metadata": {},
   "source": [
    "PONIEDZIAŁEK"
   ]
  },
  {
   "cell_type": "code",
   "execution_count": 9,
   "metadata": {},
   "outputs": [
    {
     "name": "stdout",
     "output_type": "stream",
     "text": [
      "Epoch 1/5\n",
      "11088/11088 [==============================] - 53s 5ms/step - loss: 0.9035 - mae: 0.1906\n",
      "Epoch 2/5\n",
      "11088/11088 [==============================] - 51s 5ms/step - loss: 0.8291 - mae: 0.1861\n",
      "Epoch 3/5\n",
      "11088/11088 [==============================] - 52s 5ms/step - loss: 0.8291 - mae: 0.1860\n",
      "Epoch 4/5\n",
      "11088/11088 [==============================] - 52s 5ms/step - loss: 0.8291 - mae: 0.1860\n",
      "Epoch 5/5\n",
      "11088/11088 [==============================] - 53s 5ms/step - loss: 0.8291 - mae: 0.1861\n",
      "113/113 [==============================] - 0s 1ms/step\n"
     ]
    },
    {
     "data": {
      "text/plain": [
       "[<matplotlib.lines.Line2D at 0x14516761710>]"
      ]
     },
     "execution_count": 9,
     "metadata": {},
     "output_type": "execute_result"
    },
    {
     "data": {
      "image/png": "[encoded data removed]",
      "text/plain": [
       "<Figure size 640x480 with 1 Axes>"
      ]
     },
     "metadata": {},
     "output_type": "display_data"
    }
   ],
   "source": [
    "dataset = pd.read_csv('../dane_scalone.csv')\n",
    "\n",
    "dataset=dataset.drop(columns=\"Pora_roku\")\n",
    "dataset = dataset[dataset['Dzien_tygodnia'] == 1]\n",
    "\n",
    "dataset['Czas_dnia'] = dataset['Czas_dnia'] * 100\n",
    "x=dataset.drop(columns=\"Przeplyw\")\n",
    "x=x.drop(columns=\"Dzien_tygodnia\")\n",
    "y=dataset.drop(columns=\"Dzien_tygodnia\")\n",
    "y=y.drop(columns=\"Czas_dnia\")\n",
    "\n",
    "x_train, x_test, y_train, y_test = train_test_split(x, y, test_size=0.2, random_state=42)\n",
    "\n",
    "model = tf.keras.models.Sequential([\n",
    "      tf.keras.layers.Dense(1024, activation='relu', input_shape=(1,)),\n",
    "      tf.keras.layers.Dense(512, activation='relu'),\n",
    "      tf.keras.layers.Dense(256, activation='relu'),\n",
    "      tf.keras.layers.Dense(128, activation='relu'),\n",
    "      tf.keras.layers.Dense(64, activation='relu'),\n",
    "      tf.keras.layers.Dense(32, activation='relu'),\n",
    "      tf.keras.layers.Dense(1,activation='linear') \n",
    "])\n",
    "\n",
    "model.compile(optimizer=tf.optimizers.Adam(learning_rate=0.01),\n",
    "              loss=\"mse\",\n",
    "              metrics=['mae'])\n",
    "\n",
    "model.fit(x_train, y_train, epochs=5, batch_size=128)\n",
    "\n",
    "flow_time_pon=np.arange(0,1,1/3600) \n",
    "flow_result_pon = model.predict(flow_time_pon)\n",
    "\n",
    "plt.plot(flow_time_pon, flow_result_pon)"
   ]
  },
  {
   "cell_type": "markdown",
   "metadata": {},
   "source": [
    "WTOREK"
   ]
  },
  {
   "cell_type": "code",
   "execution_count": null,
   "metadata": {},
   "outputs": [],
   "source": [
    "dataset = pd.read_csv('../dane_scalone.csv')\n",
    "\n",
    "dataset=dataset.drop(columns=\"Pora_roku\")\n",
    "dataset = dataset[dataset['Dzien_tygodnia'] == 2]\n",
    "\n",
    "dataset['Czas_dnia'] = dataset['Czas_dnia'] * 100\n",
    "x=dataset.drop(columns=\"Przeplyw\")\n",
    "x=x.drop(columns=\"Dzien_tygodnia\")\n",
    "y=dataset.drop(columns=\"Dzien_tygodnia\")\n",
    "y=y.drop(columns=\"Czas_dnia\")\n",
    "\n",
    "x_train, x_test, y_train, y_test = train_test_split(x, y, test_size=0.2, random_state=42)\n",
    "\n",
    "model = tf.keras.models.Sequential([\n",
    "      tf.keras.layers.Dense(1024, activation='relu', input_shape=(1,)),\n",
    "      tf.keras.layers.Dense(512, activation='relu'),\n",
    "      tf.keras.layers.Dense(256, activation='relu'),\n",
    "      tf.keras.layers.Dense(128, activation='relu'),\n",
    "      tf.keras.layers.Dense(64, activation='relu'),\n",
    "      tf.keras.layers.Dense(32, activation='relu'),\n",
    "      tf.keras.layers.Dense(1,activation='linear') \n",
    "])\n",
    "\n",
    "model.compile(optimizer=tf.optimizers.Adam(learning_rate=0.01),\n",
    "              loss=\"mse\",\n",
    "              metrics=['mae'])\n",
    "\n",
    "model.fit(x_train, y_train, epochs=5, batch_size=128)\n",
    "\n",
    "flow_time_wt=np.arange(0,1,1/3600) \n",
    "flow_result_wt = model.predict(flow_time_wt)\n",
    "\n",
    "plt.plot(flow_time_wt, flow_result_wt)"
   ]
  },
  {
   "cell_type": "markdown",
   "metadata": {},
   "source": [
    "ŚRODA"
   ]
  },
  {
   "cell_type": "code",
   "execution_count": null,
   "metadata": {},
   "outputs": [],
   "source": [
    "dataset = pd.read_csv('../dane_scalone.csv')\n",
    "\n",
    "dataset=dataset.drop(columns=\"Pora_roku\")\n",
    "dataset = dataset[dataset['Dzien_tygodnia'] == 3]\n",
    "\n",
    "dataset['Czas_dnia'] = dataset['Czas_dnia'] * 100\n",
    "x=dataset.drop(columns=\"Przeplyw\")\n",
    "x=x.drop(columns=\"Dzien_tygodnia\")\n",
    "y=dataset.drop(columns=\"Dzien_tygodnia\")\n",
    "y=y.drop(columns=\"Czas_dnia\")\n",
    "\n",
    "x_train, x_test, y_train, y_test = train_test_split(x, y, test_size=0.2, random_state=42)\n",
    "\n",
    "model = tf.keras.models.Sequential([\n",
    "      tf.keras.layers.Dense(1024, activation='relu', input_shape=(1,)),\n",
    "      tf.keras.layers.Dense(512, activation='relu'),\n",
    "      tf.keras.layers.Dense(256, activation='relu'),\n",
    "      tf.keras.layers.Dense(128, activation='relu'),\n",
    "      tf.keras.layers.Dense(64, activation='relu'),\n",
    "      tf.keras.layers.Dense(32, activation='relu'),\n",
    "      tf.keras.layers.Dense(1,activation='linear') \n",
    "])\n",
    "\n",
    "model.compile(optimizer=tf.optimizers.Adam(learning_rate=0.01),\n",
    "              loss=\"mse\",\n",
    "              metrics=['mae'])\n",
    "\n",
    "model.fit(x_train, y_train, epochs=5, batch_size=128)\n",
    "\n",
    "flow_time_sr=np.arange(0,1,1/3600) \n",
    "flow_result_sr = model.predict(flow_time_sr)   \n",
    "\n",
    "plt.plot(flow_time_sr, flow_result_sr)"
   ]
  },
  {
   "cell_type": "markdown",
   "metadata": {},
   "source": [
    "CZWARTEK"
   ]
  },
  {
   "cell_type": "code",
   "execution_count": null,
   "metadata": {},
   "outputs": [],
   "source": [
    "dataset = pd.read_csv('../dane_scalone.csv')\n",
    "\n",
    "dataset=dataset.drop(columns=\"Pora_roku\")\n",
    "dataset = dataset[dataset['Dzien_tygodnia'] == 4]\n",
    "\n",
    "dataset['Czas_dnia'] = dataset['Czas_dnia'] * 100\n",
    "x=dataset.drop(columns=\"Przeplyw\")\n",
    "x=x.drop(columns=\"Dzien_tygodnia\")\n",
    "y=dataset.drop(columns=\"Dzien_tygodnia\")\n",
    "y=y.drop(columns=\"Czas_dnia\")\n",
    "\n",
    "x_train, x_test, y_train, y_test = train_test_split(x, y, test_size=0.2, random_state=42)\n",
    "\n",
    "model = tf.keras.models.Sequential([\n",
    "      tf.keras.layers.Dense(1024, activation='relu', input_shape=(1,)),\n",
    "      tf.keras.layers.Dense(512, activation='relu'),\n",
    "      tf.keras.layers.Dense(256, activation='relu'),\n",
    "      tf.keras.layers.Dense(128, activation='relu'),\n",
    "      tf.keras.layers.Dense(64, activation='relu'),\n",
    "      tf.keras.layers.Dense(32, activation='relu'),\n",
    "      tf.keras.layers.Dense(1,activation='linear') \n",
    "])\n",
    "\n",
    "model.compile(optimizer=tf.optimizers.Adam(learning_rate=0.01),\n",
    "              loss=\"mse\",\n",
    "              metrics=['mae'])\n",
    "\n",
    "model.fit(x_train, y_train, epochs=5, batch_size=128)\n",
    "\n",
    "flow_time_czw=np.arange(0,1,1/3600) \n",
    "flow_result_czw = model.predict(flow_time_czw)   \n",
    "\n",
    "plt.plot(flow_time_czw, flow_result_czw)"
   ]
  },
  {
   "cell_type": "markdown",
   "metadata": {},
   "source": [
    "PIĄTEK"
   ]
  },
  {
   "cell_type": "code",
   "execution_count": 76,
   "metadata": {},
   "outputs": [
    {
     "name": "stdout",
     "output_type": "stream",
     "text": [
      "Epoch 1/5\n",
      "WARNING:tensorflow:AutoGraph could not transform <function Model.make_train_function.<locals>.train_function at 0x0000019A93803E20> and will run it as-is.\n",
      "Please report this to the TensorFlow team. When filing the bug, set the verbosity to 10 (on Linux, `export AUTOGRAPH_VERBOSITY=10`) and attach the full output.\n",
      "Cause: closure mismatch, requested ('self', 'step_function'), but source function had ()\n",
      "To silence this warning, decorate the function with @tf.autograph.experimental.do_not_convert\n",
      "WARNING: AutoGraph could not transform <function Model.make_train_function.<locals>.train_function at 0x0000019A93803E20> and will run it as-is.\n",
      "Please report this to the TensorFlow team. When filing the bug, set the verbosity to 10 (on Linux, `export AUTOGRAPH_VERBOSITY=10`) and attach the full output.\n",
      "Cause: closure mismatch, requested ('self', 'step_function'), but source function had ()\n",
      "To silence this warning, decorate the function with @tf.autograph.experimental.do_not_convert\n",
      "11088/11088 [==============================] - 12s 1ms/step - loss: 0.6332 - mae: 0.1623\n",
      "Epoch 2/5\n",
      "11088/11088 [==============================] - 11s 1ms/step - loss: 0.6251 - mae: 0.1581\n",
      "Epoch 3/5\n",
      "11088/11088 [==============================] - 11s 1ms/step - loss: 0.6251 - mae: 0.1581\n",
      "Epoch 4/5\n",
      "11088/11088 [==============================] - 11s 1ms/step - loss: 0.6251 - mae: 0.1581\n",
      "Epoch 5/5\n",
      "11088/11088 [==============================] - 11s 1ms/step - loss: 0.6251 - mae: 0.1581\n",
      "WARNING:tensorflow:AutoGraph could not transform <function Model.make_predict_function.<locals>.predict_function at 0x0000019A938016C0> and will run it as-is.\n",
      "Please report this to the TensorFlow team. When filing the bug, set the verbosity to 10 (on Linux, `export AUTOGRAPH_VERBOSITY=10`) and attach the full output.\n",
      "Cause: closure mismatch, requested ('self', 'step_function'), but source function had ()\n",
      "To silence this warning, decorate the function with @tf.autograph.experimental.do_not_convert\n",
      "WARNING: AutoGraph could not transform <function Model.make_predict_function.<locals>.predict_function at 0x0000019A938016C0> and will run it as-is.\n",
      "Please report this to the TensorFlow team. When filing the bug, set the verbosity to 10 (on Linux, `export AUTOGRAPH_VERBOSITY=10`) and attach the full output.\n",
      "Cause: closure mismatch, requested ('self', 'step_function'), but source function had ()\n",
      "To silence this warning, decorate the function with @tf.autograph.experimental.do_not_convert\n",
      "113/113 [==============================] - 0s 548us/step\n"
     ]
    },
    {
     "data": {
      "text/plain": [
       "[<matplotlib.lines.Line2D at 0x19a884c1110>]"
      ]
     },
     "execution_count": 76,
     "metadata": {},
     "output_type": "execute_result"
    },
    {
     "data": {
      "image/png": "[encoded data removed]",
      "text/plain": [
       "<Figure size 640x480 with 1 Axes>"
      ]
     },
     "metadata": {},
     "output_type": "display_data"
    }
   ],
   "source": [
    "dataset = pd.read_csv('../dane_scalone.csv')\n",
    "\n",
    "dataset=dataset.drop(columns=\"Pora_roku\")\n",
    "dataset = dataset[dataset['Dzien_tygodnia'] == 5]\n",
    "\n",
    "dataset['Czas_dnia'] = dataset['Czas_dnia'] * 100\n",
    "x=dataset.drop(columns=\"Przeplyw\")\n",
    "x=x.drop(columns=\"Dzien_tygodnia\")\n",
    "y=dataset.drop(columns=\"Dzien_tygodnia\")\n",
    "y=y.drop(columns=\"Czas_dnia\")\n",
    "\n",
    "x_train, x_test, y_train, y_test = train_test_split(x, y, test_size=0.2, random_state=42)\n",
    "\n",
    "model = tf.keras.models.Sequential([\n",
    "      tf.keras.layers.Dense(256, activation='relu', input_shape=(1,)),\n",
    "      tf.keras.layers.Dense(128, activation='relu'),\n",
    "      tf.keras.layers.Dense(64, activation='relu'),\n",
    "      tf.keras.layers.Dense(32, activation='relu'),\n",
    "      tf.keras.layers.Dense(1,activation='linear') \n",
    "])\n",
    "\n",
    "model.compile(optimizer=tf.optimizers.Adam(learning_rate=0.01),\n",
    "              loss=\"mse\",\n",
    "              metrics=['mae'])\n",
    "\n",
    "model.fit(x_train, y_train, epochs=5, batch_size=128)\n",
    "\n",
    "flow_time_pt=np.arange(0,1,1/3600) \n",
    "flow_result_pt = model.predict(flow_time_pt)   \n",
    "\n",
    "plt.plot(flow_time_pt, flow_result_pt)"
   ]
  },
  {
   "cell_type": "markdown",
   "metadata": {},
   "source": [
    "SOBOTA"
   ]
  },
  {
   "cell_type": "code",
   "execution_count": null,
   "metadata": {},
   "outputs": [],
   "source": [
    "dataset = pd.read_csv('../dane_scalone.csv')\n",
    "\n",
    "dataset=dataset.drop(columns=\"Pora_roku\")\n",
    "dataset = dataset[dataset['Dzien_tygodnia'] == 6]\n",
    "\n",
    "dataset['Czas_dnia'] = dataset['Czas_dnia'] * 100\n",
    "x=dataset.drop(columns=\"Przeplyw\")\n",
    "x=x.drop(columns=\"Dzien_tygodnia\")\n",
    "y=dataset.drop(columns=\"Dzien_tygodnia\")\n",
    "y=y.drop(columns=\"Czas_dnia\")\n",
    "\n",
    "x_train, x_test, y_train, y_test = train_test_split(x, y, test_size=0.2, random_state=42)\n",
    "\n",
    "model = tf.keras.models.Sequential([\n",
    "      tf.keras.layers.Dense(1024, activation='relu', input_shape=(1,)),\n",
    "      tf.keras.layers.Dense(512, activation='relu'),\n",
    "      tf.keras.layers.Dense(256, activation='relu'),\n",
    "      tf.keras.layers.Dense(128, activation='relu'),\n",
    "      tf.keras.layers.Dense(64, activation='relu'),\n",
    "      tf.keras.layers.Dense(32, activation='relu'),\n",
    "      tf.keras.layers.Dense(1,activation='linear') \n",
    "])\n",
    "\n",
    "model.compile(optimizer=tf.optimizers.Adam(learning_rate=0.01),\n",
    "              loss=\"mse\",\n",
    "              metrics=['mae'])\n",
    "\n",
    "model.fit(x_train, y_train, epochs=5, batch_size=128)\n",
    "\n",
    "flow_time_sob=np.arange(0,1,1/3600) \n",
    "flow_result_sob = model.predict(flow_time)   \n",
    "\n",
    "plt.plot(flow_time_sob, flow_result_sob)"
   ]
  },
  {
   "cell_type": "markdown",
   "metadata": {},
   "source": [
    "NIEDZIELA"
   ]
  },
  {
   "cell_type": "code",
   "execution_count": null,
   "metadata": {},
   "outputs": [],
   "source": [
    "dataset = pd.read_csv('../dane_scalone.csv')\n",
    "\n",
    "dataset=dataset.drop(columns=\"Pora_roku\")\n",
    "dataset = dataset[dataset['Dzien_tygodnia'] == 7]\n",
    "\n",
    "dataset['Czas_dnia'] = dataset['Czas_dnia'] * 100\n",
    "x=dataset.drop(columns=\"Przeplyw\")\n",
    "x=x.drop(columns=\"Dzien_tygodnia\")\n",
    "y=dataset.drop(columns=\"Dzien_tygodnia\")\n",
    "y=y.drop(columns=\"Czas_dnia\")\n",
    "\n",
    "x_train, x_test, y_train, y_test = train_test_split(x, y, test_size=0.2, random_state=42)\n",
    "\n",
    "model = tf.keras.models.Sequential([\n",
    "      tf.keras.layers.Dense(1024, activation='relu', input_shape=(1,)),\n",
    "      tf.keras.layers.Dense(512, activation='relu'),\n",
    "      tf.keras.layers.Dense(256, activation='relu'),\n",
    "      tf.keras.layers.Dense(128, activation='relu'),\n",
    "      tf.keras.layers.Dense(64, activation='relu'),\n",
    "      tf.keras.layers.Dense(32, activation='relu'),\n",
    "      tf.keras.layers.Dense(1,activation='linear') \n",
    "])\n",
    "\n",
    "model.compile(optimizer=tf.optimizers.Adam(learning_rate=0.01),\n",
    "              loss=\"mse\",\n",
    "              metrics=['mae'])\n",
    "\n",
    "model.fit(x_train, y_train, epochs=5, batch_size=128)\n",
    "\n",
    "flow_time_dn=np.arange(0,1,1/3600) \n",
    "flow_result_dn = model.predict(flow_time)   \n",
    "\n",
    "plt.plot(flow_time_dn, flow_result_dn)"
   ]
  }
 ],
 "metadata": {
  "kernelspec": {
   "display_name": "Python 3",
   "language": "python",
   "name": "python3"
  },
  "language_info": {
   "codemirror_mode": {
    "name": "ipython",
    "version": 3
   },
   "file_extension": ".py",
   "mimetype": "text/x-python",
   "name": "python",
   "nbconvert_exporter": "python",
   "pygments_lexer": "ipython3",
   "version": "3.11.5"
  }
 },
 "nbformat": 4,
 "nbformat_minor": 2
}
