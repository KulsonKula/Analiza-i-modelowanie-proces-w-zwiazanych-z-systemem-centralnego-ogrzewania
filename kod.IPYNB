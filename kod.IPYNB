{
 "cells": [
  {
   "cell_type": "code",
   "execution_count": 89,
   "metadata": {},
   "outputs": [
    {
     "name": "stdout",
     "output_type": "stream",
     "text": [
      "2.15.0\n"
     ]
    }
   ],
   "source": [
    "import tensorflow as tf\n",
    "import numpy as np\n",
    "import pandas as pd\n",
    "from sklearn.model_selection import train_test_split\n",
    "import matplotlib.pyplot as plt\n",
    "import warnings\n",
    "\n",
    "# Make NumPy printouts easier to read.\n",
    "np.set_printoptions(precision=5, suppress=True)\n",
    "warnings.filterwarnings(\"ignore\")\n",
    "\n",
    "print(tf.__version__)"
   ]
  },
  {
   "cell_type": "code",
   "execution_count": null,
   "metadata": {},
   "outputs": [],
   "source": [
    "print(\"Num GPUs Available: \", len(tf.config.list_physical_devices('GPU')))"
   ]
  },
  {
   "cell_type": "markdown",
   "metadata": {},
   "source": [
    "MODEL A - DANE BEZ PORY ROKU"
   ]
  },
  {
   "cell_type": "code",
   "execution_count": null,
   "metadata": {},
   "outputs": [],
   "source": [
    "dataset = pd.read_csv('../dane_scalone.csv')\n",
    "\n",
    "dataset"
   ]
  },
  {
   "cell_type": "code",
   "execution_count": null,
   "metadata": {},
   "outputs": [],
   "source": [
    "dataset=dataset.drop(columns=\"Pora_roku\")\n",
    "dataset['Czas_dnia'] = dataset['Czas_dnia'] * 100\n",
    "x=dataset.drop(columns=\"Przeplyw\")\n",
    "y=dataset.drop(columns=\"Dzien_tygodnia\")\n",
    "y=y.drop(columns=\"Czas_dnia\")\n",
    "\n",
    "x_train, x_test, y_train, y_test = train_test_split(x, y, test_size=0.2, random_state=42)\n",
    "\n",
    "model = tf.keras.models.Sequential([\n",
    "      tf.keras.layers.Dense(128, activation='relu', input_shape=(2,)),\n",
    "      tf.keras.layers.Dense(64, activation='relu'),\n",
    "      tf.keras.layers.Dense(32, activation='relu'),\n",
    "      tf.keras.layers.Dense(1,activation='linear') \n",
    "])\n",
    "\n",
    "model.compile(optimizer=tf.optimizers.Adam(learning_rate=0.01),\n",
    "              loss=\"mse\",\n",
    "              metrics=['mae'])"
   ]
  },
  {
   "cell_type": "code",
   "execution_count": null,
   "metadata": {},
   "outputs": [],
   "source": [
    "model.fit(x_train, y_train, epochs=5, batch_size=128)"
   ]
  },
  {
   "cell_type": "code",
   "execution_count": null,
   "metadata": {},
   "outputs": [],
   "source": [
    "model.evaluate(x_test, y_test, batch_size=128)"
   ]
  },
  {
   "cell_type": "code",
   "execution_count": null,
   "metadata": {},
   "outputs": [],
   "source": [
    "flow_time=np.arange(0,1,1/3600) \n",
    "flow_time=np.vstack((1*np.ones_like(flow_time, dtype=int),flow_time)).T\n",
    "flow_result = model.predict(flow_time)\n",
    "\n",
    "plt.plot(flow_time, flow_result)"
   ]
  },
  {
   "cell_type": "markdown",
   "metadata": {},
   "source": [
    "MODEL B - TYLKO JEDEN DZIEŃ TYGODANIA\n"
   ]
  },
  {
   "cell_type": "code",
   "execution_count": 104,
   "metadata": {},
   "outputs": [],
   "source": [
    "def build_and_compile_model_input_1():\n",
    "      model = tf.keras.models.Sequential([\n",
    "          tf.keras.layers.Dense(128, activation='relu', input_shape=(1,)),\n",
    "          tf.keras.layers.Dense(64, activation='relu'),\n",
    "          tf.keras.layers.Dense(32, activation='relu'),\n",
    "          tf.keras.layers.Dense(1,activation='linear') \n",
    "    ])\n",
    "\n",
    "      model.compile(optimizer=tf.optimizers.Adam(learning_rate=0.01),\n",
    "                    loss=\"mse\",\n",
    "                    metrics=['mae'])\n",
    "      return model\n",
    "\n",
    "def prep_data(data,day):\n",
    "      data=data.drop(columns=\"Pora_roku\")\n",
    "      data = data[data['Dzien_tygodnia'] == day]\n",
    "\n",
    "      data['Czas_dnia'] = data['Czas_dnia'] * 100\n",
    "      x=data.drop(columns=\"Przeplyw\")\n",
    "      x=x.drop(columns=\"Dzien_tygodnia\")\n",
    "      y=data.drop(columns=\"Dzien_tygodnia\")\n",
    "      y=y.drop(columns=\"Czas_dnia\")\n",
    "      return [x,y]"
   ]
  },
  {
   "cell_type": "markdown",
   "metadata": {},
   "source": [
    "PONIEDZIAŁEK"
   ]
  },
  {
   "cell_type": "code",
   "execution_count": 105,
   "metadata": {},
   "outputs": [
    {
     "name": "stdout",
     "output_type": "stream",
     "text": [
      "Epoch 1/5\n",
      "11088/11088 [==============================] - 10s 871us/step - loss: 0.8340 - mae: 0.1904\n",
      "Epoch 2/5\n",
      "11088/11088 [==============================] - 9s 848us/step - loss: 0.8291 - mae: 0.1861\n",
      "Epoch 3/5\n",
      "11088/11088 [==============================] - 9s 826us/step - loss: 0.8291 - mae: 0.1860\n",
      "Epoch 4/5\n",
      "11088/11088 [==============================] - 9s 840us/step - loss: 0.8291 - mae: 0.1860\n",
      "Epoch 5/5\n",
      "11088/11088 [==============================] - 10s 870us/step - loss: 0.8291 - mae: 0.1861\n",
      "113/113 [==============================] - 0s 631us/step\n"
     ]
    },
    {
     "data": {
      "text/plain": [
       "[<matplotlib.lines.Line2D at 0x260945d5990>]"
      ]
     },
     "execution_count": 105,
     "metadata": {},
     "output_type": "execute_result"
    },
    {
     "data": {
      "image/png": "[encoded data removed]",
      "text/plain": [
       "<Figure size 640x480 with 1 Axes>"
      ]
     },
     "metadata": {},
     "output_type": "display_data"
    }
   ],
   "source": [
    "dataset = pd.read_csv('../dane_scalone.csv')\n",
    "\n",
    "[x,y]=prep_data(dataset,1)\n",
    "\n",
    "x_train, x_test, y_train, y_test = train_test_split(x, y, test_size=0.2, random_state=42)\n",
    "\n",
    "model = build_and_compile_model_input_1()\n",
    "\n",
    "model.fit(x_train, y_train, epochs=5, batch_size=128)\n",
    "\n",
    "flow_time_pon=np.arange(0,1,1/3600) \n",
    "flow_result_pon = model.predict(flow_time_pon).T\n",
    "\n",
    "plt.plot(flow_time_pon, flow_result_pon.reshape(3600))"
   ]
  },
  {
   "cell_type": "markdown",
   "metadata": {},
   "source": [
    "WTOREK"
   ]
  },
  {
   "cell_type": "code",
   "execution_count": 106,
   "metadata": {},
   "outputs": [
    {
     "name": "stdout",
     "output_type": "stream",
     "text": [
      "Epoch 1/5\n",
      " 9887/11088 [=========================>....] - ETA: 1s - loss: 0.6302 - mae: 0.1537"
     ]
    }
   ],
   "source": [
    "dataset = pd.read_csv('../dane_scalone.csv')\n",
    "\n",
    "[x,y]=prep_data(dataset,2)\n",
    "\n",
    "x_train, x_test, y_train, y_test = train_test_split(x, y, test_size=0.2, random_state=42)\n",
    "\n",
    "model = build_and_compile_model_input_1()\n",
    "\n",
    "model.fit(x_train, y_train, epochs=5, batch_size=128)\n",
    "\n",
    "flow_time_wt=np.arange(0,1,1/3600) \n",
    "flow_result_wt = model.predict(flow_time_wt)\n",
    "\n",
    "plt.plot(flow_time_wt, flow_result_wt.reshape(3600))"
   ]
  },
  {
   "cell_type": "markdown",
   "metadata": {},
   "source": [
    "ŚRODA"
   ]
  },
  {
   "cell_type": "code",
   "execution_count": null,
   "metadata": {},
   "outputs": [],
   "source": [
    "dataset = pd.read_csv('../dane_scalone.csv')\n",
    "\n",
    "[x,y]=prep_data(dataset,3)\n",
    "\n",
    "x_train, x_test, y_train, y_test = train_test_split(x, y, test_size=0.2, random_state=42)\n",
    "\n",
    "model = build_and_compile_model_input_1()\n",
    "\n",
    "model.fit(x_train, y_train, epochs=5, batch_size=128)\n",
    "\n",
    "flow_time_sr=np.arange(0,1,1/3600) \n",
    "flow_result_sr = model.predict(flow_time_sr)   \n",
    "\n",
    "plt.plot(flow_time_sr, flow_result_sr.reshape(3600))"
   ]
  },
  {
   "cell_type": "markdown",
   "metadata": {},
   "source": [
    "CZWARTEK"
   ]
  },
  {
   "cell_type": "code",
   "execution_count": null,
   "metadata": {},
   "outputs": [],
   "source": [
    "dataset = pd.read_csv('../dane_scalone.csv')\n",
    "\n",
    "[x,y]=prep_data(dataset,4)\n",
    "\n",
    "x_train, x_test, y_train, y_test = train_test_split(x, y, test_size=0.2, random_state=42)\n",
    "\n",
    "model = build_and_compile_model_input_1()\n",
    "\n",
    "model.fit(x_train, y_train, epochs=5, batch_size=128)\n",
    "\n",
    "flow_time_czw=np.arange(0,1,1/3600) \n",
    "flow_result_czw = model.predict(flow_time_czw)   \n",
    "\n",
    "plt.plot(flow_time_czw, flow_result_czw.reshape(3600))"
   ]
  },
  {
   "cell_type": "markdown",
   "metadata": {},
   "source": [
    "PIĄTEK"
   ]
  },
  {
   "cell_type": "code",
   "execution_count": null,
   "metadata": {},
   "outputs": [],
   "source": [
    "dataset = pd.read_csv('../dane_scalone.csv')\n",
    "\n",
    "[x,y]=prep_data(dataset,5)\n",
    "\n",
    "x_train, x_test, y_train, y_test = train_test_split(x, y, test_size=0.2, random_state=42)\n",
    "\n",
    "model = build_and_compile_model_input_1()\n",
    "\n",
    "model.fit(x_train, y_train, epochs=5, batch_size=128)\n",
    "\n",
    "flow_time_pt=np.arange(0,1,1/3600) \n",
    "flow_result_pt = model.predict(flow_time_pt)   \n",
    "\n",
    "plt.plot(flow_time_pt, flow_result_pt.reshape(3600))"
   ]
  },
  {
   "cell_type": "markdown",
   "metadata": {},
   "source": [
    "SOBOTA"
   ]
  },
  {
   "cell_type": "code",
   "execution_count": null,
   "metadata": {},
   "outputs": [],
   "source": [
    "dataset = pd.read_csv('../dane_scalone.csv')\n",
    "\n",
    "[x,y]=prep_data(dataset,6)\n",
    "\n",
    "x_train, x_test, y_train, y_test = train_test_split(x, y, test_size=0.2, random_state=42)\n",
    "\n",
    "model = build_and_compile_model_input_1()\n",
    "\n",
    "model.fit(x_train, y_train, epochs=5, batch_size=128)\n",
    "\n",
    "flow_time_sob=np.arange(0,1,1/3600) \n",
    "flow_result_sob = model.predict(flow_time_sob)   \n",
    "\n",
    "plt.plot(flow_time_sob, flow_result_sob.reshape(3600))"
   ]
  },
  {
   "cell_type": "markdown",
   "metadata": {},
   "source": [
    "NIEDZIELA"
   ]
  },
  {
   "cell_type": "code",
   "execution_count": null,
   "metadata": {},
   "outputs": [],
   "source": [
    "dataset = pd.read_csv('../dane_scalone.csv')\n",
    "\n",
    "[x,y]=prep_data(dataset,7)\n",
    "\n",
    "x_train, x_test, y_train, y_test = train_test_split(x, y, test_size=0.2, random_state=42)\n",
    "\n",
    "model = build_and_compile_model_input_1()\n",
    "\n",
    "model.fit(x_train, y_train, epochs=5, batch_size=128)\n",
    "\n",
    "flow_time_dn=np.arange(0,1,1/3600) \n",
    "flow_result_dn = model.predict(flow_time_dn)   \n",
    "\n",
    "plt.plot(flow_time_dn, flow_result_dn.reshape(3600))"
   ]
  },
  {
   "cell_type": "code",
   "execution_count": 103,
   "metadata": {},
   "outputs": [
    {
     "ename": "NameError",
     "evalue": "name 'flow_time_sr' is not defined",
     "output_type": "error",
     "traceback": [
      "\u001b[1;31m---------------------------------------------------------------------------\u001b[0m",
      "\u001b[1;31mNameError\u001b[0m                                 Traceback (most recent call last)",
      "\u001b[1;32mc:\\Users\\Kuba\\Desktop\\inzynierka\\Projekt-inzynierski\\kod.IPYNB Cell 25\u001b[0m line \u001b[0;36m1\n\u001b[0;32m      <a href='vscode-notebook-cell:/c%3A/Users/Kuba/Desktop/inzynierka/Projekt-inzynierski/kod.IPYNB#X65sZmlsZQ%3D%3D?line=8'>9</a>\u001b[0m axs[\u001b[39m0\u001b[39m,\u001b[39m2\u001b[39m]\u001b[39m.\u001b[39mset_title(\u001b[39m'\u001b[39m\u001b[39mLato\u001b[39m\u001b[39m'\u001b[39m)\n\u001b[0;32m     <a href='vscode-notebook-cell:/c%3A/Users/Kuba/Desktop/inzynierka/Projekt-inzynierski/kod.IPYNB#X65sZmlsZQ%3D%3D?line=9'>10</a>\u001b[0m axs[\u001b[39m0\u001b[39m,\u001b[39m2\u001b[39m]\u001b[39m.\u001b[39mset_xlim(\u001b[39m0\u001b[39m, \u001b[39m1\u001b[39m)\n\u001b[1;32m---> <a href='vscode-notebook-cell:/c%3A/Users/Kuba/Desktop/inzynierka/Projekt-inzynierski/kod.IPYNB#X65sZmlsZQ%3D%3D?line=11'>12</a>\u001b[0m axs[\u001b[39m1\u001b[39m,\u001b[39m0\u001b[39m]\u001b[39m.\u001b[39mplot(flow_time_sr, flow_result_sr\u001b[39m.\u001b[39mreshape(\u001b[39m3600\u001b[39m))\n\u001b[0;32m     <a href='vscode-notebook-cell:/c%3A/Users/Kuba/Desktop/inzynierka/Projekt-inzynierski/kod.IPYNB#X65sZmlsZQ%3D%3D?line=12'>13</a>\u001b[0m axs[\u001b[39m1\u001b[39m,\u001b[39m0\u001b[39m]\u001b[39m.\u001b[39mset_title(\u001b[39m'\u001b[39m\u001b[39mJesień\u001b[39m\u001b[39m'\u001b[39m)\n\u001b[0;32m     <a href='vscode-notebook-cell:/c%3A/Users/Kuba/Desktop/inzynierka/Projekt-inzynierski/kod.IPYNB#X65sZmlsZQ%3D%3D?line=13'>14</a>\u001b[0m axs[\u001b[39m1\u001b[39m,\u001b[39m0\u001b[39m]\u001b[39m.\u001b[39mset_xlim(\u001b[39m0\u001b[39m, \u001b[39m1\u001b[39m)\n",
      "\u001b[1;31mNameError\u001b[0m: name 'flow_time_sr' is not defined"
     ]
    },
    {
     "data": {
      "image/png": "[encoded data removed]",
      "text/plain": [
       "<Figure size 2000x600 with 8 Axes>"
      ]
     },
     "metadata": {},
     "output_type": "display_data"
    }
   ],
   "source": [
    "fig, axs = plt.subplots(2, 4, figsize=(20, 6))\n",
    "\n",
    "\n",
    "axs[0,0].plot(flow_time_pon, flow_result_pon.reshape(3600))\n",
    "axs[0,0].set_title('Wiosna')\n",
    "axs[0,0].set_xlim(0, 1)\n",
    "\n",
    "axs[0,1].plot(flow_time_wt, flow_result_wt.reshape(3600))\n",
    "axs[0,1].set_title('Lato')\n",
    "axs[0,1].set_xlim(0, 1)\n",
    "\n",
    "axs[0,2].plot(flow_time_sr, flow_result_sr.reshape(3600))\n",
    "axs[0,2].set_title('Jesień')\n",
    "axs[0,2].set_xlim(0, 1)\n",
    "\n",
    "axs[0,3].plot(flow_time_czw, flow_result_czw.reshape(3600))\n",
    "axs[0,3].set_title('Czwartek')\n",
    "axs[0,3].set_xlim(0, 1)\n",
    "\n",
    "axs[1,0].plot(flow_time_pt, flow_result_pt.reshape(3600))\n",
    "axs[1,0].set_title('Piątek')\n",
    "axs[1,0].set_xlim(0, 1)\n",
    "\n",
    "axs[1,1].plot(flow_time_sob, flow_result_sob.reshape(3600))\n",
    "axs[1,1].set_title('Sobota')\n",
    "axs[1,1].set_xlim(0, 1)\n",
    "\n",
    "axs[1,2].plot(flow_time_dn, flow_result_dn.reshape(3600))\n",
    "axs[1,2].set_title('Niedziela')\n",
    "axs[1,2].set_xlim(0, 1)\n",
    "\n",
    "plt.tight_layout()\n",
    "\n",
    "plt.show()"
   ]
  },
  {
   "cell_type": "markdown",
   "metadata": {},
   "source": [
    "MODEL C - DODANIE PORY ROKU"
   ]
  },
  {
   "cell_type": "code",
   "execution_count": 78,
   "metadata": {},
   "outputs": [],
   "source": [
    "def build_and_compile_model_input_3():\n",
    "      model = tf.keras.models.Sequential([\n",
    "            tf.keras.layers.Dense(128, activation='relu', input_shape=(3,)),\n",
    "            tf.keras.layers.Dense(64, activation='relu'),\n",
    "            tf.keras.layers.Dense(32, activation='relu'),\n",
    "            tf.keras.layers.Dense(1,activation='linear') \n",
    "      ])\n",
    "\n",
    "      model.compile(optimizer=tf.optimizers.Adam(learning_rate=0.01),\n",
    "                    loss=\"mse\",\n",
    "                    metrics=['mae'])\n",
    "      return model\n",
    "\n",
    "def prep_data(data,sezon):\n",
    "      data = data[data['Pora_roku'] == sezon]\n",
    "\n",
    "      data['Czas_dnia'] = data['Czas_dnia'] * 100\n",
    "      x=data.drop(columns=\"Przeplyw\")\n",
    "      y=data.drop(columns=\"Dzien_tygodnia\")\n",
    "      y=y.drop(columns=\"Czas_dnia\")\n",
    "      y=y.drop(columns=\"Pora_roku\")\n",
    "      return [x,y]"
   ]
  },
  {
   "cell_type": "markdown",
   "metadata": {},
   "source": [
    "WSZYSTKIE PORY ROKU"
   ]
  },
  {
   "cell_type": "code",
   "execution_count": 79,
   "metadata": {},
   "outputs": [
    {
     "name": "stdout",
     "output_type": "stream",
     "text": [
      "Epoch 1/5\n",
      "77616/77616 [==============================] - 66s 840us/step - loss: 0.7050 - mae: 0.1649\n",
      "Epoch 2/5\n",
      "77616/77616 [==============================] - 66s 844us/step - loss: 0.7045 - mae: 0.1642\n",
      "Epoch 3/5\n",
      "77616/77616 [==============================] - 67s 858us/step - loss: 0.7045 - mae: 0.1642\n",
      "Epoch 4/5\n",
      "77616/77616 [==============================] - 68s 875us/step - loss: 0.7045 - mae: 0.1642\n",
      "Epoch 5/5\n",
      "77616/77616 [==============================] - 66s 845us/step - loss: 0.7045 - mae: 0.1642\n",
      "113/113 [==============================] - 0s 621us/step\n"
     ]
    },
    {
     "data": {
      "text/plain": [
       "[<matplotlib.lines.Line2D at 0x26083a08510>,\n",
       " <matplotlib.lines.Line2D at 0x26083a09d50>,\n",
       " <matplotlib.lines.Line2D at 0x26083a08210>]"
      ]
     },
     "execution_count": 79,
     "metadata": {},
     "output_type": "execute_result"
    },
    {
     "data": {
      "image/png": "[encoded data removed]",
      "text/plain": [
       "<Figure size 640x480 with 1 Axes>"
      ]
     },
     "metadata": {},
     "output_type": "display_data"
    }
   ],
   "source": [
    "dataset = pd.read_csv('../dane_scalone.csv')\n",
    "\n",
    "\n",
    "dataset['Czas_dnia'] = dataset['Czas_dnia'] * 100\n",
    "x=dataset.drop(columns=\"Przeplyw\")\n",
    "y=dataset.drop(columns=\"Dzien_tygodnia\")\n",
    "y=y.drop(columns=\"Czas_dnia\")\n",
    "y=y.drop(columns=\"Pora_roku\")\n",
    "\n",
    "x_train, x_test, y_train, y_test = train_test_split(x, y, test_size=0.2, random_state=42)\n",
    "\n",
    "\n",
    "model = build_and_compile_model_input_3()\n",
    "\n",
    "model.compile(optimizer=tf.optimizers.Adam(learning_rate=0.01),\n",
    "              loss=\"mse\",\n",
    "              metrics=['mae'])\n",
    "\n",
    "model.fit(x_train, y_train, epochs=5, batch_size=128)\n",
    "\n",
    "flow_time=np.arange(0,1,1/3600)\n",
    "flow_time=np.vstack((1*np.ones_like(flow_time, dtype=int),1*np.ones_like(flow_time, dtype=int),flow_time)).T\n",
    "flow_result = model.predict(flow_time)   \n",
    "\n",
    "plt.plot(flow_time, flow_result)"
   ]
  },
  {
   "cell_type": "markdown",
   "metadata": {},
   "source": [
    "WIOSNA"
   ]
  },
  {
   "cell_type": "code",
   "execution_count": 80,
   "metadata": {},
   "outputs": [
    {
     "name": "stdout",
     "output_type": "stream",
     "text": [
      "Epoch 1/5\n",
      "19404/19404 [==============================] - 18s 893us/step - loss: 0.7542 - mae: 0.1784\n",
      "Epoch 2/5\n",
      "19404/19404 [==============================] - 17s 859us/step - loss: 0.7512 - mae: 0.1752\n",
      "Epoch 3/5\n",
      "19404/19404 [==============================] - 17s 857us/step - loss: 0.7512 - mae: 0.1752\n",
      "Epoch 4/5\n",
      "19404/19404 [==============================] - 17s 854us/step - loss: 0.7512 - mae: 0.1752\n",
      "Epoch 5/5\n",
      "19404/19404 [==============================] - 17s 858us/step - loss: 0.7512 - mae: 0.1752\n",
      "113/113 [==============================] - 0s 626us/step\n"
     ]
    },
    {
     "data": {
      "text/plain": [
       "[<matplotlib.lines.Line2D at 0x260862bb5d0>,\n",
       " <matplotlib.lines.Line2D at 0x2608697eed0>,\n",
       " <matplotlib.lines.Line2D at 0x2607acc3750>]"
      ]
     },
     "execution_count": 80,
     "metadata": {},
     "output_type": "execute_result"
    },
    {
     "data": {
      "image/png": "[encoded data removed]",
      "text/plain": [
       "<Figure size 640x480 with 1 Axes>"
      ]
     },
     "metadata": {},
     "output_type": "display_data"
    }
   ],
   "source": [
    "dataset = pd.read_csv('../dane_scalone.csv')\n",
    "\n",
    "[x,y]=prep_data(dataset,1)\n",
    "\n",
    "x_train, x_test, y_train, y_test = train_test_split(x, y, test_size=0.2, random_state=42)\n",
    "\n",
    "model = build_and_compile_model_input_3()\n",
    "\n",
    "model.fit(x_train, y_train, epochs=5, batch_size=128)\n",
    "\n",
    "flow_time_spring=np.arange(0,1,1/3600)\n",
    "flow_time_spring=np.vstack((1*np.ones_like(flow_time_spring, dtype=int),1*np.ones_like(flow_time_spring, dtype=int),flow_time_spring)).T\n",
    "flow_result_spring = model.predict(flow_time_spring)   \n",
    "\n",
    "plt.plot(flow_time_spring, flow_result_spring)"
   ]
  },
  {
   "cell_type": "markdown",
   "metadata": {},
   "source": [
    "LATO"
   ]
  },
  {
   "cell_type": "code",
   "execution_count": 81,
   "metadata": {},
   "outputs": [
    {
     "name": "stdout",
     "output_type": "stream",
     "text": [
      "Epoch 1/5\n",
      "19404/19404 [==============================] - 17s 851us/step - loss: 0.4860 - mae: 0.1332\n",
      "Epoch 2/5\n",
      "19404/19404 [==============================] - 16s 846us/step - loss: 0.4829 - mae: 0.1305\n",
      "Epoch 3/5\n",
      "19404/19404 [==============================] - 16s 843us/step - loss: 0.4829 - mae: 0.1305\n",
      "Epoch 4/5\n",
      "19404/19404 [==============================] - 16s 842us/step - loss: 0.4829 - mae: 0.1305\n",
      "Epoch 5/5\n",
      "19404/19404 [==============================] - 16s 843us/step - loss: 0.4829 - mae: 0.1305\n",
      "113/113 [==============================] - 0s 592us/step\n"
     ]
    },
    {
     "data": {
      "text/plain": [
       "[<matplotlib.lines.Line2D at 0x2607acbb410>,\n",
       " <matplotlib.lines.Line2D at 0x26086990f50>,\n",
       " <matplotlib.lines.Line2D at 0x2607806c410>]"
      ]
     },
     "execution_count": 81,
     "metadata": {},
     "output_type": "execute_result"
    },
    {
     "data": {
      "image/png": "[encoded data removed]",
      "text/plain": [
       "<Figure size 640x480 with 1 Axes>"
      ]
     },
     "metadata": {},
     "output_type": "display_data"
    }
   ],
   "source": [
    "dataset = pd.read_csv('../dane_scalone.csv')\n",
    "\n",
    "[x,y]=prep_data(dataset,2)\n",
    "\n",
    "x_train, x_test, y_train, y_test = train_test_split(x, y, test_size=0.2, random_state=42)\n",
    "\n",
    "model = build_and_compile_model_input_3()\n",
    "\n",
    "model.fit(x_train, y_train, epochs=5, batch_size=128)\n",
    "\n",
    "flow_time_summer=np.arange(0,1,1/3600)\n",
    "flow_time_summer=np.vstack((2*np.ones_like(flow_time_summer, dtype=int),1*np.ones_like(flow_time_summer, dtype=int),flow_time_summer)).T\n",
    "flow_result_summer = model.predict(flow_time_summer)   \n",
    "\n",
    "plt.plot(flow_time_summer, flow_result_summer)"
   ]
  },
  {
   "cell_type": "markdown",
   "metadata": {},
   "source": [
    "JESIEŃ"
   ]
  },
  {
   "cell_type": "code",
   "execution_count": 82,
   "metadata": {},
   "outputs": [
    {
     "name": "stdout",
     "output_type": "stream",
     "text": [
      "Epoch 1/5\n",
      "19404/19404 [==============================] - 17s 842us/step - loss: 0.6855 - mae: 0.1634\n",
      "Epoch 2/5\n",
      "19404/19404 [==============================] - 16s 848us/step - loss: 0.6671 - mae: 0.1592\n",
      "Epoch 3/5\n",
      "19404/19404 [==============================] - 16s 835us/step - loss: 0.6671 - mae: 0.1592\n",
      "Epoch 4/5\n",
      "19404/19404 [==============================] - 16s 837us/step - loss: 0.6671 - mae: 0.1591\n",
      "Epoch 5/5\n",
      "19404/19404 [==============================] - 16s 829us/step - loss: 0.6672 - mae: 0.1592\n",
      "113/113 [==============================] - 0s 663us/step\n"
     ]
    },
    {
     "data": {
      "text/plain": [
       "[<matplotlib.lines.Line2D at 0x26092c9fdd0>,\n",
       " <matplotlib.lines.Line2D at 0x26092c9ffd0>,\n",
       " <matplotlib.lines.Line2D at 0x26092cbc2d0>]"
      ]
     },
     "execution_count": 82,
     "metadata": {},
     "output_type": "execute_result"
    },
    {
     "data": {
      "image/png": "[encoded data removed]",
      "text/plain": [
       "<Figure size 640x480 with 1 Axes>"
      ]
     },
     "metadata": {},
     "output_type": "display_data"
    }
   ],
   "source": [
    "dataset = pd.read_csv('../dane_scalone.csv')\n",
    "\n",
    "[x,y]=prep_data(dataset,3)\n",
    "\n",
    "x_train, x_test, y_train, y_test = train_test_split(x, y, test_size=0.2, random_state=42)\n",
    "\n",
    "model = build_and_compile_model_input_3()\n",
    "\n",
    "model.fit(x_train, y_train, epochs=5, batch_size=128)\n",
    "\n",
    "flow_time_fall=np.arange(0,1,1/3600)\n",
    "flow_time_fall=np.vstack((3*np.ones_like(flow_time_fall, dtype=int),1*np.ones_like(flow_time_fall, dtype=int),flow_time_fall)).T\n",
    "flow_result_fall = model.predict(flow_time_fall)   \n",
    "\n",
    "plt.plot(flow_time_fall, flow_result_fall)"
   ]
  },
  {
   "cell_type": "markdown",
   "metadata": {},
   "source": [
    "ZIMA"
   ]
  },
  {
   "cell_type": "code",
   "execution_count": 83,
   "metadata": {},
   "outputs": [
    {
     "name": "stdout",
     "output_type": "stream",
     "text": [
      "Epoch 1/5\n",
      "19404/19404 [==============================] - 17s 837us/step - loss: 0.9413 - mae: 0.1974\n",
      "Epoch 2/5\n",
      "19404/19404 [==============================] - 16s 831us/step - loss: 0.9233 - mae: 0.1934\n",
      "Epoch 3/5\n",
      "19404/19404 [==============================] - 16s 837us/step - loss: 0.9234 - mae: 0.1933\n",
      "Epoch 4/5\n",
      "19404/19404 [==============================] - 16s 833us/step - loss: 0.9233 - mae: 0.1934\n",
      "Epoch 5/5\n",
      "19404/19404 [==============================] - 16s 833us/step - loss: 0.9233 - mae: 0.1934\n",
      "113/113 [==============================] - 0s 601us/step\n"
     ]
    },
    {
     "data": {
      "text/plain": [
       "[<matplotlib.lines.Line2D at 0x26092e94290>,\n",
       " <matplotlib.lines.Line2D at 0x26092ed4850>,\n",
       " <matplotlib.lines.Line2D at 0x26092ef9b90>]"
      ]
     },
     "execution_count": 83,
     "metadata": {},
     "output_type": "execute_result"
    },
    {
     "data": {
      "image/png": "[encoded data removed]",
      "text/plain": [
       "<Figure size 640x480 with 1 Axes>"
      ]
     },
     "metadata": {},
     "output_type": "display_data"
    }
   ],
   "source": [
    "dataset = pd.read_csv('../dane_scalone.csv')\n",
    "\n",
    "[x,y]=prep_data(dataset,4)\n",
    "\n",
    "x_train, x_test, y_train, y_test = train_test_split(x, y, test_size=0.2, random_state=42)\n",
    "\n",
    "model = build_and_compile_model_input_3()\n",
    "\n",
    "model.fit(x_train, y_train, epochs=5, batch_size=128)\n",
    "\n",
    "flow_time_winter=np.arange(0,1,1/3600)\n",
    "flow_time_winter=np.vstack((4*np.ones_like(flow_time_winter, dtype=int),1*np.ones_like(flow_time_winter, dtype=int),flow_time_winter)).T\n",
    "flow_result_winter = model.predict(flow_time_winter)   \n",
    "\n",
    "plt.plot(flow_time_winter, flow_result_winter)"
   ]
  },
  {
   "cell_type": "code",
   "execution_count": 97,
   "metadata": {},
   "outputs": [
    {
     "data": {
      "image/png": "[encoded data removed]",
      "text/plain": [
       "<Figure size 800x600 with 4 Axes>"
      ]
     },
     "metadata": {},
     "output_type": "display_data"
    }
   ],
   "source": [
    "fig, axs = plt.subplots(2, 2, figsize=(8, 6))\n",
    "\n",
    "\n",
    "axs[0,0].plot(flow_time_spring, flow_result_spring)\n",
    "axs[0,0].set_title('Wiosna')\n",
    "axs[0,0].set_xlim(0, 1)\n",
    "\n",
    "axs[0,1].plot(flow_time_summer, flow_result_summer)\n",
    "axs[0,1].set_title('Lato')\n",
    "axs[0,1].set_xlim(0, 1)\n",
    "\n",
    "axs[1,0].plot(flow_time_fall, flow_result_fall)\n",
    "axs[1,0].set_title('Jesień')\n",
    "axs[1,0].set_xlim(0, 1)\n",
    "\n",
    "axs[1,1].plot(flow_time_winter, flow_result_winter)\n",
    "axs[1,1].set_title('Zima')\n",
    "axs[1,1].set_xlim(0, 1)\n",
    "\n",
    "plt.tight_layout()\n",
    "\n",
    "plt.show()"
   ]
  }
 ],
 "metadata": {
  "kernelspec": {
   "display_name": "Python 3",
   "language": "python",
   "name": "python3"
  },
  "language_info": {
   "codemirror_mode": {
    "name": "ipython",
    "version": 3
   },
   "file_extension": ".py",
   "mimetype": "text/x-python",
   "name": "python",
   "nbconvert_exporter": "python",
   "pygments_lexer": "ipython3",
   "version": "3.11.5"
  }
 },
 "nbformat": 4,
 "nbformat_minor": 2
}
