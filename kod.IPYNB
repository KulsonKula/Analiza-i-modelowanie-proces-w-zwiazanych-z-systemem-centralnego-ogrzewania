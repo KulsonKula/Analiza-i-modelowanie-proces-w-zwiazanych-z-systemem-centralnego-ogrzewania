{
 "cells": [
  {
   "cell_type": "code",
   "execution_count": 51,
   "metadata": {},
   "outputs": [
    {
     "name": "stdout",
     "output_type": "stream",
     "text": [
      "2.13.0\n"
     ]
    }
   ],
   "source": [
    "import matplotlib.pyplot as plt\n",
    "import numpy as np\n",
    "import pandas as pd\n",
    "from tensorflow.keras.layers import Input, Dense, concatenate\n",
    "\n",
    "# Make NumPy printouts easier to read.\n",
    "np.set_printoptions(precision=5, suppress=True)\n",
    "\n",
    "import tensorflow as tf\n",
    "print(tf.__version__)"
   ]
  },
  {
   "cell_type": "code",
   "execution_count": 52,
   "metadata": {},
   "outputs": [
    {
     "data": {
      "text/html": [
       "<div>\n",
       "<style scoped>\n",
       "    .dataframe tbody tr th:only-of-type {\n",
       "        vertical-align: middle;\n",
       "    }\n",
       "\n",
       "    .dataframe tbody tr th {\n",
       "        vertical-align: top;\n",
       "    }\n",
       "\n",
       "    .dataframe thead th {\n",
       "        text-align: right;\n",
       "    }\n",
       "</style>\n",
       "<table border=\"1\" class=\"dataframe\">\n",
       "  <thead>\n",
       "    <tr style=\"text-align: right;\">\n",
       "      <th></th>\n",
       "      <th>dzien_tygodnia</th>\n",
       "      <th>czas</th>\n",
       "      <th>przeplyw</th>\n",
       "    </tr>\n",
       "  </thead>\n",
       "  <tbody>\n",
       "    <tr>\n",
       "      <th>0</th>\n",
       "      <td>4</td>\n",
       "      <td>0.000099</td>\n",
       "      <td>252</td>\n",
       "    </tr>\n",
       "    <tr>\n",
       "      <th>1</th>\n",
       "      <td>4</td>\n",
       "      <td>0.000198</td>\n",
       "      <td>78</td>\n",
       "    </tr>\n",
       "    <tr>\n",
       "      <th>2</th>\n",
       "      <td>4</td>\n",
       "      <td>0.000297</td>\n",
       "      <td>253</td>\n",
       "    </tr>\n",
       "    <tr>\n",
       "      <th>3</th>\n",
       "      <td>4</td>\n",
       "      <td>0.000396</td>\n",
       "      <td>192</td>\n",
       "    </tr>\n",
       "    <tr>\n",
       "      <th>4</th>\n",
       "      <td>4</td>\n",
       "      <td>0.000495</td>\n",
       "      <td>8</td>\n",
       "    </tr>\n",
       "    <tr>\n",
       "      <th>...</th>\n",
       "      <td>...</td>\n",
       "      <td>...</td>\n",
       "      <td>...</td>\n",
       "    </tr>\n",
       "    <tr>\n",
       "      <th>369504</th>\n",
       "      <td>2</td>\n",
       "      <td>0.999808</td>\n",
       "      <td>213</td>\n",
       "    </tr>\n",
       "    <tr>\n",
       "      <th>369505</th>\n",
       "      <td>2</td>\n",
       "      <td>0.999856</td>\n",
       "      <td>253</td>\n",
       "    </tr>\n",
       "    <tr>\n",
       "      <th>369506</th>\n",
       "      <td>2</td>\n",
       "      <td>0.999904</td>\n",
       "      <td>186</td>\n",
       "    </tr>\n",
       "    <tr>\n",
       "      <th>369507</th>\n",
       "      <td>2</td>\n",
       "      <td>0.999952</td>\n",
       "      <td>8</td>\n",
       "    </tr>\n",
       "    <tr>\n",
       "      <th>369508</th>\n",
       "      <td>2</td>\n",
       "      <td>1.000000</td>\n",
       "      <td>187</td>\n",
       "    </tr>\n",
       "  </tbody>\n",
       "</table>\n",
       "<p>369509 rows × 3 columns</p>\n",
       "</div>"
      ],
      "text/plain": [
       "        dzien_tygodnia      czas  przeplyw\n",
       "0                    4  0.000099       252\n",
       "1                    4  0.000198        78\n",
       "2                    4  0.000297       253\n",
       "3                    4  0.000396       192\n",
       "4                    4  0.000495         8\n",
       "...                ...       ...       ...\n",
       "369504               2  0.999808       213\n",
       "369505               2  0.999856       253\n",
       "369506               2  0.999904       186\n",
       "369507               2  0.999952         8\n",
       "369508               2  1.000000       187\n",
       "\n",
       "[369509 rows x 3 columns]"
      ]
     },
     "execution_count": 52,
     "metadata": {},
     "output_type": "execute_result"
    }
   ],
   "source": [
    "dataset = pd.read_csv('data_obrobiona/calosc.csv')\n",
    "dataset"
   ]
  },
  {
   "cell_type": "code",
   "execution_count": 53,
   "metadata": {},
   "outputs": [],
   "source": [
    "train_dataset = dataset.sample(frac=0.8, random_state=0)\n",
    "test_dataset = dataset.drop(train_dataset.index)\n",
    "x_train=train_dataset.drop(columns=\"przeplyw\");\n",
    "x_test=test_dataset.drop(columns=\"przeplyw\");\n",
    "y_train=train_dataset.przeplyw;\n",
    "y_test=test_dataset.przeplyw;\n",
    "train_data=x_train.drop(columns=\"czas\")\n",
    "train_czas=x_train.drop(columns=\"dzien_tygodnia\")"
   ]
  },
  {
   "cell_type": "code",
   "execution_count": 54,
   "metadata": {},
   "outputs": [
    {
     "data": {
      "text/plain": [
       "(295607, 1)"
      ]
     },
     "execution_count": 54,
     "metadata": {},
     "output_type": "execute_result"
    }
   ],
   "source": [
    "train_czas.shape"
   ]
  },
  {
   "cell_type": "code",
   "execution_count": 55,
   "metadata": {},
   "outputs": [],
   "source": [
    "model = tf.keras.models.Sequential([\n",
    "      tf.keras.layers.Dense(126, activation='relu', input_shape=(2,)),\n",
    "      tf.keras.layers.Dense(64, activation='relu'),\n",
    "      tf.keras.layers.Dense(32, activation='relu'),\n",
    "      tf.keras.layers.Dense(1,activation='linear') \n",
    "])"
   ]
  },
  {
   "cell_type": "code",
   "execution_count": 56,
   "metadata": {},
   "outputs": [],
   "source": [
    "\n",
    "\n",
    "model.compile(optimizer=tf.optimizers.Adam(learning_rate=0.01),\n",
    "              loss=\"mse\",\n",
    "              metrics=['mae'])"
   ]
  },
  {
   "cell_type": "code",
   "execution_count": 57,
   "metadata": {},
   "outputs": [
    {
     "name": "stdout",
     "output_type": "stream",
     "text": [
      "Epoch 1/5\n"
     ]
    },
    {
     "name": "stdout",
     "output_type": "stream",
     "text": [
      "9238/9238 [==============================] - 28s 3ms/step - loss: 5554.4585 - mae: 64.2980\n",
      "Epoch 2/5\n",
      "9238/9238 [==============================] - 53s 6ms/step - loss: 5477.9399 - mae: 64.0134\n",
      "Epoch 3/5\n",
      "9238/9238 [==============================] - 9s 924us/step - loss: 5462.7202 - mae: 63.9558\n",
      "Epoch 4/5\n",
      "9238/9238 [==============================] - 7s 753us/step - loss: 5459.8843 - mae: 63.9405\n",
      "Epoch 5/5\n",
      "9238/9238 [==============================] - 7s 746us/step - loss: 5459.3130 - mae: 63.9324\n"
     ]
    },
    {
     "data": {
      "text/plain": [
       "<keras.src.callbacks.History at 0x20b4c9f8690>"
      ]
     },
     "execution_count": 57,
     "metadata": {},
     "output_type": "execute_result"
    }
   ],
   "source": [
    "model.fit(x_train, y_train, epochs=5, batch_size=32)"
   ]
  },
  {
   "cell_type": "code",
   "execution_count": 58,
   "metadata": {},
   "outputs": [
    {
     "name": "stdout",
     "output_type": "stream",
     "text": [
      "2310/2310 - 1s - loss: 5499.1763 - mae: 64.2051 - 1s/epoch - 569us/step\n"
     ]
    },
    {
     "data": {
      "text/plain": [
       "[5499.17626953125, 64.2051010131836]"
      ]
     },
     "execution_count": 58,
     "metadata": {},
     "output_type": "execute_result"
    }
   ],
   "source": [
    "model.evaluate(x_test,  y_test, verbose=2)"
   ]
  },
  {
   "cell_type": "code",
   "execution_count": 59,
   "metadata": {},
   "outputs": [],
   "source": [
    "sample_time=2;      #[s]\n",
    "symulation_time=60; #[min]\n",
    "\n",
    "current_hours=12;   #[h]\n",
    "current_minutes=12; #[min]\n",
    "current_day=1;      #[label, pon-1, wt-2,...,nd-7]"
   ]
  },
  {
   "cell_type": "code",
   "execution_count": 66,
   "metadata": {},
   "outputs": [
    {
     "data": {
      "text/plain": [
       "array([[1.     , 0.50833],\n",
       "       [1.     , 0.50836],\n",
       "       [1.     , 0.50838],\n",
       "       ...,\n",
       "       [1.     , 0.54993],\n",
       "       [1.     , 0.54995],\n",
       "       [1.     , 0.54998]])"
      ]
     },
     "execution_count": 66,
     "metadata": {},
     "output_type": "execute_result"
    }
   ],
   "source": [
    "sample_time_normalized=sample_time/(60*60*24);              #[min - normalized]\n",
    "symulation_time_normlized=symulation_time/(24*60)           #[min - normalized]\n",
    "current_time=(current_hours*60+current_minutes)/(24*60)     #[min - normalized]\n",
    "\n",
    "if current_time+symulation_time_normlized<1:\n",
    "    flow_time=np.arange(current_time,current_time+symulation_time_normlized,sample_time_normalized) #[min - normalized]\n",
    "    flow_time=np.vstack((current_day*np.ones_like(flow_time, dtype=int),flow_time)).T               #[label, min]\n",
    "\n",
    "flow_time"
   ]
  },
  {
   "cell_type": "code",
   "execution_count": 67,
   "metadata": {},
   "outputs": [
    {
     "name": "stdout",
     "output_type": "stream",
     "text": [
      "57/57 [==============================] - 0s 699us/step\n"
     ]
    },
    {
     "data": {
      "text/plain": [
       "7451.5875"
      ]
     },
     "execution_count": 67,
     "metadata": {},
     "output_type": "execute_result"
    }
   ],
   "source": [
    "flow_result = model.predict(flow_time)                   # [l]\n",
    "water_usage_predict=np.sum(flow_result)*(sample_time/60) # [l]\n",
    "\n",
    "water_usage_predict"
   ]
  }
 ],
 "metadata": {
  "kernelspec": {
   "display_name": "Python 3",
   "language": "python",
   "name": "python3"
  },
  "language_info": {
   "codemirror_mode": {
    "name": "ipython",
    "version": 3
   },
   "file_extension": ".py",
   "mimetype": "text/x-python",
   "name": "python",
   "nbconvert_exporter": "python",
   "pygments_lexer": "ipython3",
   "version": "3.11.5"
  }
 },
 "nbformat": 4,
 "nbformat_minor": 2
}
