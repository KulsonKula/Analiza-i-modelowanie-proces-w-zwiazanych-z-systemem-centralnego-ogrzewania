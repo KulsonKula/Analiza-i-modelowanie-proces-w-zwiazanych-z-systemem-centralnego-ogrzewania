{
 "cells": [
  {
   "cell_type": "code",
   "execution_count": 27,
   "metadata": {},
   "outputs": [
    {
     "name": "stdout",
     "output_type": "stream",
     "text": [
      "2.10.0\n"
     ]
    }
   ],
   "source": [
    "from tensorflow.keras.callbacks import LearningRateScheduler, TensorBoard\n",
    "from sklearn.model_selection import train_test_split\n",
    "from sklearn.metrics import mean_squared_error\n",
    "import matplotlib.pyplot as plt\n",
    "import tensorflow as tf\n",
    "import pandas as pd\n",
    "import numpy as np\n",
    "import warnings\n",
    "import glob \n",
    "import os \n",
    "\n",
    "# Make NumPy printouts easier to read.\n",
    "np.set_printoptions(precision=5, suppress=True)\n",
    "warnings.filterwarnings(\"ignore\")\n",
    "\n",
    "print(tf.__version__)"
   ]
  },
  {
   "cell_type": "code",
   "execution_count": 28,
   "metadata": {},
   "outputs": [
    {
     "name": "stdout",
     "output_type": "stream",
     "text": [
      "Num GPUs Available:  1\n"
     ]
    }
   ],
   "source": [
    "print(\"Num GPUs Available: \", len(tf.config.list_physical_devices('GPU')))"
   ]
  },
  {
   "cell_type": "code",
   "execution_count": 29,
   "metadata": {},
   "outputs": [],
   "source": [
    "def custom_scheduler(epoch, lr):\n",
    "    if epoch < 4:\n",
    "        return lr\n",
    "    else:\n",
    "        return lr * tf.math.exp(-0.1)\n",
    "\n",
    "\n",
    "def build_and_compile_model_input(k):\n",
    "      model = tf.keras.models.Sequential([\n",
    "          tf.keras.layers.Dense(512, activation='relu', input_shape=(k,)),\n",
    "          tf.keras.layers.Dense(256, activation='relu'),\n",
    "          tf.keras.layers.Dense(128, activation='relu'),\n",
    "          tf.keras.layers.Dense(64, activation='relu'),\n",
    "          # tf.keras.layers.Dense(32, activation='relu'),\n",
    "          tf.keras.layers.Dense(1,activation='linear') \n",
    "    ])\n",
    "\n",
    "      model.compile(optimizer=tf.optimizers.Adam(learning_rate=0.001),\n",
    "                    loss=\"mse\",\n",
    "                    metrics=['mae'])\n",
    "      return model\n",
    "\n",
    "scheduler = LearningRateScheduler(custom_scheduler)\n",
    "tensorboard = TensorBoard(log_dir='./logs', histogram_freq=1)\n",
    "callbacks = [scheduler, tensorboard]\n",
    "\n",
    "EPOCHS = 40\n",
    "BATCH_SIZE=64\n",
    "\n",
    "DATASET_CALOSC=pd.read_csv('../Dane/data_nowe/dane_przetworzone/12_wybranych/calosc/calosc.csv')\n"
   ]
  },
  {
   "cell_type": "code",
   "execution_count": null,
   "metadata": {},
   "outputs": [],
   "source": [
    "input_3_plot=np.arange(0,1,1/1.44) \n",
    "input_3=np.vstack((2*np.ones_like(input_3_plot, dtype=int),2*np.ones_like(input_3_plot, dtype=int),input_3_plot)).T"
   ]
  },
  {
   "cell_type": "code",
   "execution_count": 31,
   "metadata": {},
   "outputs": [
    {
     "data": {
      "text/html": [
       "<div>\n",
       "<style scoped>\n",
       "    .dataframe tbody tr th:only-of-type {\n",
       "        vertical-align: middle;\n",
       "    }\n",
       "\n",
       "    .dataframe tbody tr th {\n",
       "        vertical-align: top;\n",
       "    }\n",
       "\n",
       "    .dataframe thead th {\n",
       "        text-align: right;\n",
       "    }\n",
       "</style>\n",
       "<table border=\"1\" class=\"dataframe\">\n",
       "  <thead>\n",
       "    <tr style=\"text-align: right;\">\n",
       "      <th></th>\n",
       "      <th>Pora_roku</th>\n",
       "      <th>Dzien_tygodnia</th>\n",
       "      <th>Czas_dnia</th>\n",
       "      <th>Przeplyw</th>\n",
       "      <th>Tyg_zuzycie</th>\n",
       "    </tr>\n",
       "  </thead>\n",
       "  <tbody>\n",
       "    <tr>\n",
       "      <th>0</th>\n",
       "      <td>2.0</td>\n",
       "      <td>1.0</td>\n",
       "      <td>0.000000</td>\n",
       "      <td>0.0</td>\n",
       "      <td>627.50</td>\n",
       "    </tr>\n",
       "    <tr>\n",
       "      <th>1</th>\n",
       "      <td>2.0</td>\n",
       "      <td>1.0</td>\n",
       "      <td>0.000694</td>\n",
       "      <td>0.0</td>\n",
       "      <td>627.50</td>\n",
       "    </tr>\n",
       "    <tr>\n",
       "      <th>2</th>\n",
       "      <td>2.0</td>\n",
       "      <td>1.0</td>\n",
       "      <td>0.001389</td>\n",
       "      <td>0.0</td>\n",
       "      <td>627.50</td>\n",
       "    </tr>\n",
       "    <tr>\n",
       "      <th>3</th>\n",
       "      <td>2.0</td>\n",
       "      <td>1.0</td>\n",
       "      <td>0.002083</td>\n",
       "      <td>0.0</td>\n",
       "      <td>627.50</td>\n",
       "    </tr>\n",
       "    <tr>\n",
       "      <th>4</th>\n",
       "      <td>2.0</td>\n",
       "      <td>1.0</td>\n",
       "      <td>0.002778</td>\n",
       "      <td>0.0</td>\n",
       "      <td>627.50</td>\n",
       "    </tr>\n",
       "    <tr>\n",
       "      <th>...</th>\n",
       "      <td>...</td>\n",
       "      <td>...</td>\n",
       "      <td>...</td>\n",
       "      <td>...</td>\n",
       "      <td>...</td>\n",
       "    </tr>\n",
       "    <tr>\n",
       "      <th>2096635</th>\n",
       "      <td>1.0</td>\n",
       "      <td>7.0</td>\n",
       "      <td>0.996528</td>\n",
       "      <td>0.0</td>\n",
       "      <td>1185.25</td>\n",
       "    </tr>\n",
       "    <tr>\n",
       "      <th>2096636</th>\n",
       "      <td>1.0</td>\n",
       "      <td>7.0</td>\n",
       "      <td>0.997222</td>\n",
       "      <td>0.0</td>\n",
       "      <td>1185.25</td>\n",
       "    </tr>\n",
       "    <tr>\n",
       "      <th>2096637</th>\n",
       "      <td>1.0</td>\n",
       "      <td>7.0</td>\n",
       "      <td>0.997917</td>\n",
       "      <td>0.0</td>\n",
       "      <td>1185.25</td>\n",
       "    </tr>\n",
       "    <tr>\n",
       "      <th>2096638</th>\n",
       "      <td>1.0</td>\n",
       "      <td>7.0</td>\n",
       "      <td>0.998611</td>\n",
       "      <td>0.0</td>\n",
       "      <td>1185.25</td>\n",
       "    </tr>\n",
       "    <tr>\n",
       "      <th>2096639</th>\n",
       "      <td>1.0</td>\n",
       "      <td>7.0</td>\n",
       "      <td>0.999306</td>\n",
       "      <td>0.0</td>\n",
       "      <td>1185.25</td>\n",
       "    </tr>\n",
       "  </tbody>\n",
       "</table>\n",
       "<p>2096640 rows × 5 columns</p>\n",
       "</div>"
      ],
      "text/plain": [
       "         Pora_roku  Dzien_tygodnia  Czas_dnia  Przeplyw  Tyg_zuzycie\n",
       "0              2.0             1.0   0.000000       0.0       627.50\n",
       "1              2.0             1.0   0.000694       0.0       627.50\n",
       "2              2.0             1.0   0.001389       0.0       627.50\n",
       "3              2.0             1.0   0.002083       0.0       627.50\n",
       "4              2.0             1.0   0.002778       0.0       627.50\n",
       "...            ...             ...        ...       ...          ...\n",
       "2096635        1.0             7.0   0.996528       0.0      1185.25\n",
       "2096636        1.0             7.0   0.997222       0.0      1185.25\n",
       "2096637        1.0             7.0   0.997917       0.0      1185.25\n",
       "2096638        1.0             7.0   0.998611       0.0      1185.25\n",
       "2096639        1.0             7.0   0.999306       0.0      1185.25\n",
       "\n",
       "[2096640 rows x 5 columns]"
      ]
     },
     "execution_count": 31,
     "metadata": {},
     "output_type": "execute_result"
    }
   ],
   "source": [
    "DATASET_CALOSC"
   ]
  },
  {
   "cell_type": "markdown",
   "metadata": {},
   "source": [
    "# model 3 input"
   ]
  },
  {
   "cell_type": "code",
   "execution_count": 32,
   "metadata": {},
   "outputs": [],
   "source": [
    "dataset = DATASET_CALOSC\n",
    "dataset=dataset.drop(columns=\"Tyg_zuzycie\")\n",
    "x=dataset.drop(columns=\"Przeplyw\")\n",
    "y=dataset.drop(columns=\"Dzien_tygodnia\")\n",
    "y=y.drop(columns=\"Czas_dnia\")\n",
    "y=y.drop(columns=\"Pora_roku\")"
   ]
  },
  {
   "cell_type": "code",
   "execution_count": 33,
   "metadata": {},
   "outputs": [
    {
     "name": "stdout",
     "output_type": "stream",
     "text": [
      "Epoch 1/40\n",
      "26208/26208 [==============================] - 47s 2ms/step - loss: 0.5658 - mae: 0.1700 - lr: 0.0010\n",
      "Epoch 2/40\n",
      "26208/26208 [==============================] - 45s 2ms/step - loss: 0.5657 - mae: 0.1702 - lr: 0.0010\n",
      "Epoch 3/40\n",
      "26208/26208 [==============================] - 44s 2ms/step - loss: 0.5657 - mae: 0.1703 - lr: 0.0010\n",
      "Epoch 4/40\n",
      "26208/26208 [==============================] - 44s 2ms/step - loss: 0.5657 - mae: 0.1703 - lr: 0.0010\n",
      "Epoch 5/40\n",
      "26208/26208 [==============================] - 45s 2ms/step - loss: 0.5657 - mae: 0.1703 - lr: 9.0484e-04\n",
      "Epoch 6/40\n",
      "26208/26208 [==============================] - 44s 2ms/step - loss: 0.5657 - mae: 0.1703 - lr: 8.1873e-04\n",
      "Epoch 7/40\n",
      "26208/26208 [==============================] - 47s 2ms/step - loss: 0.5657 - mae: 0.1703 - lr: 7.4082e-04\n",
      "Epoch 8/40\n",
      "26208/26208 [==============================] - 47s 2ms/step - loss: 0.5657 - mae: 0.1702 - lr: 6.7032e-04\n",
      "Epoch 9/40\n",
      "26208/26208 [==============================] - 46s 2ms/step - loss: 0.5657 - mae: 0.1704 - lr: 6.0653e-04\n",
      "Epoch 10/40\n",
      "26208/26208 [==============================] - 44s 2ms/step - loss: 0.5657 - mae: 0.1702 - lr: 5.4881e-04\n",
      "Epoch 11/40\n",
      "26208/26208 [==============================] - 46s 2ms/step - loss: 0.5657 - mae: 0.1703 - lr: 4.9659e-04\n",
      "Epoch 12/40\n",
      "26208/26208 [==============================] - 47s 2ms/step - loss: 0.5657 - mae: 0.1702 - lr: 4.4933e-04\n",
      "Epoch 13/40\n",
      "26208/26208 [==============================] - 46s 2ms/step - loss: 0.5657 - mae: 0.1702 - lr: 4.0657e-04\n",
      "Epoch 14/40\n",
      "26208/26208 [==============================] - 46s 2ms/step - loss: 0.5656 - mae: 0.1703 - lr: 3.6788e-04\n",
      "Epoch 15/40\n",
      "26208/26208 [==============================] - 47s 2ms/step - loss: 0.5656 - mae: 0.1702 - lr: 3.3287e-04\n",
      "Epoch 16/40\n",
      "26208/26208 [==============================] - 46s 2ms/step - loss: 0.5657 - mae: 0.1704 - lr: 3.0119e-04\n",
      "Epoch 17/40\n",
      "26208/26208 [==============================] - 44s 2ms/step - loss: 0.5656 - mae: 0.1704 - lr: 2.7253e-04\n",
      "Epoch 18/40\n",
      "26208/26208 [==============================] - 44s 2ms/step - loss: 0.5656 - mae: 0.1701 - lr: 2.4660e-04\n",
      "Epoch 19/40\n",
      "26208/26208 [==============================] - 45s 2ms/step - loss: 0.5656 - mae: 0.1702 - lr: 2.2313e-04\n",
      "Epoch 20/40\n",
      " 8404/26208 [========>.....................] - ETA: 30s - loss: 0.5720 - mae: 0.1724"
     ]
    },
    {
     "ename": "KeyboardInterrupt",
     "evalue": "",
     "output_type": "error",
     "traceback": [
      "\u001b[1;31m---------------------------------------------------------------------------\u001b[0m",
      "\u001b[1;31mKeyboardInterrupt\u001b[0m                         Traceback (most recent call last)",
      "Cell \u001b[1;32mIn[33], line 3\u001b[0m\n\u001b[0;32m      1\u001b[0m x_train, x_test, y_train, y_test \u001b[38;5;241m=\u001b[39m train_test_split(x, y, test_size\u001b[38;5;241m=\u001b[39m\u001b[38;5;241m0.2\u001b[39m, random_state\u001b[38;5;241m=\u001b[39m\u001b[38;5;241m42\u001b[39m)\n\u001b[0;32m      2\u001b[0m model_calosc_danych_bez_dodatku \u001b[38;5;241m=\u001b[39mbuild_and_compile_model_input(\u001b[38;5;241m3\u001b[39m)\n\u001b[1;32m----> 3\u001b[0m \u001b[43mmodel_calosc_danych_bez_dodatku\u001b[49m\u001b[38;5;241;43m.\u001b[39;49m\u001b[43mfit\u001b[49m\u001b[43m(\u001b[49m\u001b[43mx_train\u001b[49m\u001b[43m,\u001b[49m\u001b[43m \u001b[49m\u001b[43my_train\u001b[49m\u001b[43m,\u001b[49m\u001b[43m \u001b[49m\u001b[43mepochs\u001b[49m\u001b[38;5;241;43m=\u001b[39;49m\u001b[43mEPOCHS\u001b[49m\u001b[43m,\u001b[49m\u001b[43m \u001b[49m\u001b[43mbatch_size\u001b[49m\u001b[38;5;241;43m=\u001b[39;49m\u001b[43mBATCH_SIZE\u001b[49m\u001b[43m,\u001b[49m\u001b[43m \u001b[49m\u001b[43mcallbacks\u001b[49m\u001b[38;5;241;43m=\u001b[39;49m\u001b[43mcallbacks\u001b[49m\u001b[43m)\u001b[49m\n\u001b[0;32m      4\u001b[0m model_calosc_danych_bez_dodatku\u001b[38;5;241m.\u001b[39msave(\u001b[38;5;124m\"\u001b[39m\u001b[38;5;124m../Modele/11_12_testowanie/model_calosc_bez_dodatku\u001b[39m\u001b[38;5;124m\"\u001b[39m)\n",
      "File \u001b[1;32mc:\\Users\\Kuba\\anaconda3\\envs\\tf_test\\lib\\site-packages\\keras\\utils\\traceback_utils.py:65\u001b[0m, in \u001b[0;36mfilter_traceback.<locals>.error_handler\u001b[1;34m(*args, **kwargs)\u001b[0m\n\u001b[0;32m     63\u001b[0m filtered_tb \u001b[38;5;241m=\u001b[39m \u001b[38;5;28;01mNone\u001b[39;00m\n\u001b[0;32m     64\u001b[0m \u001b[38;5;28;01mtry\u001b[39;00m:\n\u001b[1;32m---> 65\u001b[0m     \u001b[38;5;28;01mreturn\u001b[39;00m fn(\u001b[38;5;241m*\u001b[39margs, \u001b[38;5;241m*\u001b[39m\u001b[38;5;241m*\u001b[39mkwargs)\n\u001b[0;32m     66\u001b[0m \u001b[38;5;28;01mexcept\u001b[39;00m \u001b[38;5;167;01mException\u001b[39;00m \u001b[38;5;28;01mas\u001b[39;00m e:\n\u001b[0;32m     67\u001b[0m     filtered_tb \u001b[38;5;241m=\u001b[39m _process_traceback_frames(e\u001b[38;5;241m.\u001b[39m__traceback__)\n",
      "File \u001b[1;32mc:\\Users\\Kuba\\anaconda3\\envs\\tf_test\\lib\\site-packages\\keras\\engine\\training.py:1564\u001b[0m, in \u001b[0;36mModel.fit\u001b[1;34m(self, x, y, batch_size, epochs, verbose, callbacks, validation_split, validation_data, shuffle, class_weight, sample_weight, initial_epoch, steps_per_epoch, validation_steps, validation_batch_size, validation_freq, max_queue_size, workers, use_multiprocessing)\u001b[0m\n\u001b[0;32m   1556\u001b[0m \u001b[38;5;28;01mwith\u001b[39;00m tf\u001b[38;5;241m.\u001b[39mprofiler\u001b[38;5;241m.\u001b[39mexperimental\u001b[38;5;241m.\u001b[39mTrace(\n\u001b[0;32m   1557\u001b[0m     \u001b[38;5;124m\"\u001b[39m\u001b[38;5;124mtrain\u001b[39m\u001b[38;5;124m\"\u001b[39m,\n\u001b[0;32m   1558\u001b[0m     epoch_num\u001b[38;5;241m=\u001b[39mepoch,\n\u001b[1;32m   (...)\u001b[0m\n\u001b[0;32m   1561\u001b[0m     _r\u001b[38;5;241m=\u001b[39m\u001b[38;5;241m1\u001b[39m,\n\u001b[0;32m   1562\u001b[0m ):\n\u001b[0;32m   1563\u001b[0m     callbacks\u001b[38;5;241m.\u001b[39mon_train_batch_begin(step)\n\u001b[1;32m-> 1564\u001b[0m     tmp_logs \u001b[38;5;241m=\u001b[39m \u001b[38;5;28;43mself\u001b[39;49m\u001b[38;5;241;43m.\u001b[39;49m\u001b[43mtrain_function\u001b[49m\u001b[43m(\u001b[49m\u001b[43miterator\u001b[49m\u001b[43m)\u001b[49m\n\u001b[0;32m   1565\u001b[0m     \u001b[38;5;28;01mif\u001b[39;00m data_handler\u001b[38;5;241m.\u001b[39mshould_sync:\n\u001b[0;32m   1566\u001b[0m         context\u001b[38;5;241m.\u001b[39masync_wait()\n",
      "File \u001b[1;32mc:\\Users\\Kuba\\anaconda3\\envs\\tf_test\\lib\\site-packages\\tensorflow\\python\\util\\traceback_utils.py:150\u001b[0m, in \u001b[0;36mfilter_traceback.<locals>.error_handler\u001b[1;34m(*args, **kwargs)\u001b[0m\n\u001b[0;32m    148\u001b[0m filtered_tb \u001b[38;5;241m=\u001b[39m \u001b[38;5;28;01mNone\u001b[39;00m\n\u001b[0;32m    149\u001b[0m \u001b[38;5;28;01mtry\u001b[39;00m:\n\u001b[1;32m--> 150\u001b[0m   \u001b[38;5;28;01mreturn\u001b[39;00m fn(\u001b[38;5;241m*\u001b[39margs, \u001b[38;5;241m*\u001b[39m\u001b[38;5;241m*\u001b[39mkwargs)\n\u001b[0;32m    151\u001b[0m \u001b[38;5;28;01mexcept\u001b[39;00m \u001b[38;5;167;01mException\u001b[39;00m \u001b[38;5;28;01mas\u001b[39;00m e:\n\u001b[0;32m    152\u001b[0m   filtered_tb \u001b[38;5;241m=\u001b[39m _process_traceback_frames(e\u001b[38;5;241m.\u001b[39m__traceback__)\n",
      "File \u001b[1;32mc:\\Users\\Kuba\\anaconda3\\envs\\tf_test\\lib\\site-packages\\tensorflow\\python\\eager\\def_function.py:915\u001b[0m, in \u001b[0;36mFunction.__call__\u001b[1;34m(self, *args, **kwds)\u001b[0m\n\u001b[0;32m    912\u001b[0m compiler \u001b[38;5;241m=\u001b[39m \u001b[38;5;124m\"\u001b[39m\u001b[38;5;124mxla\u001b[39m\u001b[38;5;124m\"\u001b[39m \u001b[38;5;28;01mif\u001b[39;00m \u001b[38;5;28mself\u001b[39m\u001b[38;5;241m.\u001b[39m_jit_compile \u001b[38;5;28;01melse\u001b[39;00m \u001b[38;5;124m\"\u001b[39m\u001b[38;5;124mnonXla\u001b[39m\u001b[38;5;124m\"\u001b[39m\n\u001b[0;32m    914\u001b[0m \u001b[38;5;28;01mwith\u001b[39;00m OptionalXlaContext(\u001b[38;5;28mself\u001b[39m\u001b[38;5;241m.\u001b[39m_jit_compile):\n\u001b[1;32m--> 915\u001b[0m   result \u001b[38;5;241m=\u001b[39m \u001b[38;5;28mself\u001b[39m\u001b[38;5;241m.\u001b[39m_call(\u001b[38;5;241m*\u001b[39margs, \u001b[38;5;241m*\u001b[39m\u001b[38;5;241m*\u001b[39mkwds)\n\u001b[0;32m    917\u001b[0m new_tracing_count \u001b[38;5;241m=\u001b[39m \u001b[38;5;28mself\u001b[39m\u001b[38;5;241m.\u001b[39mexperimental_get_tracing_count()\n\u001b[0;32m    918\u001b[0m without_tracing \u001b[38;5;241m=\u001b[39m (tracing_count \u001b[38;5;241m==\u001b[39m new_tracing_count)\n",
      "File \u001b[1;32mc:\\Users\\Kuba\\anaconda3\\envs\\tf_test\\lib\\site-packages\\tensorflow\\python\\eager\\def_function.py:947\u001b[0m, in \u001b[0;36mFunction._call\u001b[1;34m(self, *args, **kwds)\u001b[0m\n\u001b[0;32m    944\u001b[0m   \u001b[38;5;28mself\u001b[39m\u001b[38;5;241m.\u001b[39m_lock\u001b[38;5;241m.\u001b[39mrelease()\n\u001b[0;32m    945\u001b[0m   \u001b[38;5;66;03m# In this case we have created variables on the first call, so we run the\u001b[39;00m\n\u001b[0;32m    946\u001b[0m   \u001b[38;5;66;03m# defunned version which is guaranteed to never create variables.\u001b[39;00m\n\u001b[1;32m--> 947\u001b[0m   \u001b[38;5;28;01mreturn\u001b[39;00m \u001b[38;5;28mself\u001b[39m\u001b[38;5;241m.\u001b[39m_stateless_fn(\u001b[38;5;241m*\u001b[39margs, \u001b[38;5;241m*\u001b[39m\u001b[38;5;241m*\u001b[39mkwds)  \u001b[38;5;66;03m# pylint: disable=not-callable\u001b[39;00m\n\u001b[0;32m    948\u001b[0m \u001b[38;5;28;01melif\u001b[39;00m \u001b[38;5;28mself\u001b[39m\u001b[38;5;241m.\u001b[39m_stateful_fn \u001b[38;5;129;01mis\u001b[39;00m \u001b[38;5;129;01mnot\u001b[39;00m \u001b[38;5;28;01mNone\u001b[39;00m:\n\u001b[0;32m    949\u001b[0m   \u001b[38;5;66;03m# Release the lock early so that multiple threads can perform the call\u001b[39;00m\n\u001b[0;32m    950\u001b[0m   \u001b[38;5;66;03m# in parallel.\u001b[39;00m\n\u001b[0;32m    951\u001b[0m   \u001b[38;5;28mself\u001b[39m\u001b[38;5;241m.\u001b[39m_lock\u001b[38;5;241m.\u001b[39mrelease()\n",
      "File \u001b[1;32mc:\\Users\\Kuba\\anaconda3\\envs\\tf_test\\lib\\site-packages\\tensorflow\\python\\eager\\function.py:2496\u001b[0m, in \u001b[0;36mFunction.__call__\u001b[1;34m(self, *args, **kwargs)\u001b[0m\n\u001b[0;32m   2493\u001b[0m \u001b[38;5;28;01mwith\u001b[39;00m \u001b[38;5;28mself\u001b[39m\u001b[38;5;241m.\u001b[39m_lock:\n\u001b[0;32m   2494\u001b[0m   (graph_function,\n\u001b[0;32m   2495\u001b[0m    filtered_flat_args) \u001b[38;5;241m=\u001b[39m \u001b[38;5;28mself\u001b[39m\u001b[38;5;241m.\u001b[39m_maybe_define_function(args, kwargs)\n\u001b[1;32m-> 2496\u001b[0m \u001b[38;5;28;01mreturn\u001b[39;00m \u001b[43mgraph_function\u001b[49m\u001b[38;5;241;43m.\u001b[39;49m\u001b[43m_call_flat\u001b[49m\u001b[43m(\u001b[49m\n\u001b[0;32m   2497\u001b[0m \u001b[43m    \u001b[49m\u001b[43mfiltered_flat_args\u001b[49m\u001b[43m,\u001b[49m\u001b[43m \u001b[49m\u001b[43mcaptured_inputs\u001b[49m\u001b[38;5;241;43m=\u001b[39;49m\u001b[43mgraph_function\u001b[49m\u001b[38;5;241;43m.\u001b[39;49m\u001b[43mcaptured_inputs\u001b[49m\u001b[43m)\u001b[49m\n",
      "File \u001b[1;32mc:\\Users\\Kuba\\anaconda3\\envs\\tf_test\\lib\\site-packages\\tensorflow\\python\\eager\\function.py:1862\u001b[0m, in \u001b[0;36mConcreteFunction._call_flat\u001b[1;34m(self, args, captured_inputs, cancellation_manager)\u001b[0m\n\u001b[0;32m   1858\u001b[0m possible_gradient_type \u001b[38;5;241m=\u001b[39m gradients_util\u001b[38;5;241m.\u001b[39mPossibleTapeGradientTypes(args)\n\u001b[0;32m   1859\u001b[0m \u001b[38;5;28;01mif\u001b[39;00m (possible_gradient_type \u001b[38;5;241m==\u001b[39m gradients_util\u001b[38;5;241m.\u001b[39mPOSSIBLE_GRADIENT_TYPES_NONE\n\u001b[0;32m   1860\u001b[0m     \u001b[38;5;129;01mand\u001b[39;00m executing_eagerly):\n\u001b[0;32m   1861\u001b[0m   \u001b[38;5;66;03m# No tape is watching; skip to running the function.\u001b[39;00m\n\u001b[1;32m-> 1862\u001b[0m   \u001b[38;5;28;01mreturn\u001b[39;00m \u001b[38;5;28mself\u001b[39m\u001b[38;5;241m.\u001b[39m_build_call_outputs(\u001b[38;5;28;43mself\u001b[39;49m\u001b[38;5;241;43m.\u001b[39;49m\u001b[43m_inference_function\u001b[49m\u001b[38;5;241;43m.\u001b[39;49m\u001b[43mcall\u001b[49m\u001b[43m(\u001b[49m\n\u001b[0;32m   1863\u001b[0m \u001b[43m      \u001b[49m\u001b[43mctx\u001b[49m\u001b[43m,\u001b[49m\u001b[43m \u001b[49m\u001b[43margs\u001b[49m\u001b[43m,\u001b[49m\u001b[43m \u001b[49m\u001b[43mcancellation_manager\u001b[49m\u001b[38;5;241;43m=\u001b[39;49m\u001b[43mcancellation_manager\u001b[49m\u001b[43m)\u001b[49m)\n\u001b[0;32m   1864\u001b[0m forward_backward \u001b[38;5;241m=\u001b[39m \u001b[38;5;28mself\u001b[39m\u001b[38;5;241m.\u001b[39m_select_forward_and_backward_functions(\n\u001b[0;32m   1865\u001b[0m     args,\n\u001b[0;32m   1866\u001b[0m     possible_gradient_type,\n\u001b[0;32m   1867\u001b[0m     executing_eagerly)\n\u001b[0;32m   1868\u001b[0m forward_function, args_with_tangents \u001b[38;5;241m=\u001b[39m forward_backward\u001b[38;5;241m.\u001b[39mforward()\n",
      "File \u001b[1;32mc:\\Users\\Kuba\\anaconda3\\envs\\tf_test\\lib\\site-packages\\tensorflow\\python\\eager\\function.py:499\u001b[0m, in \u001b[0;36m_EagerDefinedFunction.call\u001b[1;34m(self, ctx, args, cancellation_manager)\u001b[0m\n\u001b[0;32m    497\u001b[0m \u001b[38;5;28;01mwith\u001b[39;00m _InterpolateFunctionError(\u001b[38;5;28mself\u001b[39m):\n\u001b[0;32m    498\u001b[0m   \u001b[38;5;28;01mif\u001b[39;00m cancellation_manager \u001b[38;5;129;01mis\u001b[39;00m \u001b[38;5;28;01mNone\u001b[39;00m:\n\u001b[1;32m--> 499\u001b[0m     outputs \u001b[38;5;241m=\u001b[39m \u001b[43mexecute\u001b[49m\u001b[38;5;241;43m.\u001b[39;49m\u001b[43mexecute\u001b[49m\u001b[43m(\u001b[49m\n\u001b[0;32m    500\u001b[0m \u001b[43m        \u001b[49m\u001b[38;5;28;43mstr\u001b[39;49m\u001b[43m(\u001b[49m\u001b[38;5;28;43mself\u001b[39;49m\u001b[38;5;241;43m.\u001b[39;49m\u001b[43msignature\u001b[49m\u001b[38;5;241;43m.\u001b[39;49m\u001b[43mname\u001b[49m\u001b[43m)\u001b[49m\u001b[43m,\u001b[49m\n\u001b[0;32m    501\u001b[0m \u001b[43m        \u001b[49m\u001b[43mnum_outputs\u001b[49m\u001b[38;5;241;43m=\u001b[39;49m\u001b[38;5;28;43mself\u001b[39;49m\u001b[38;5;241;43m.\u001b[39;49m\u001b[43m_num_outputs\u001b[49m\u001b[43m,\u001b[49m\n\u001b[0;32m    502\u001b[0m \u001b[43m        \u001b[49m\u001b[43minputs\u001b[49m\u001b[38;5;241;43m=\u001b[39;49m\u001b[43margs\u001b[49m\u001b[43m,\u001b[49m\n\u001b[0;32m    503\u001b[0m \u001b[43m        \u001b[49m\u001b[43mattrs\u001b[49m\u001b[38;5;241;43m=\u001b[39;49m\u001b[43mattrs\u001b[49m\u001b[43m,\u001b[49m\n\u001b[0;32m    504\u001b[0m \u001b[43m        \u001b[49m\u001b[43mctx\u001b[49m\u001b[38;5;241;43m=\u001b[39;49m\u001b[43mctx\u001b[49m\u001b[43m)\u001b[49m\n\u001b[0;32m    505\u001b[0m   \u001b[38;5;28;01melse\u001b[39;00m:\n\u001b[0;32m    506\u001b[0m     outputs \u001b[38;5;241m=\u001b[39m execute\u001b[38;5;241m.\u001b[39mexecute_with_cancellation(\n\u001b[0;32m    507\u001b[0m         \u001b[38;5;28mstr\u001b[39m(\u001b[38;5;28mself\u001b[39m\u001b[38;5;241m.\u001b[39msignature\u001b[38;5;241m.\u001b[39mname),\n\u001b[0;32m    508\u001b[0m         num_outputs\u001b[38;5;241m=\u001b[39m\u001b[38;5;28mself\u001b[39m\u001b[38;5;241m.\u001b[39m_num_outputs,\n\u001b[1;32m   (...)\u001b[0m\n\u001b[0;32m    511\u001b[0m         ctx\u001b[38;5;241m=\u001b[39mctx,\n\u001b[0;32m    512\u001b[0m         cancellation_manager\u001b[38;5;241m=\u001b[39mcancellation_manager)\n",
      "File \u001b[1;32mc:\\Users\\Kuba\\anaconda3\\envs\\tf_test\\lib\\site-packages\\tensorflow\\python\\eager\\execute.py:54\u001b[0m, in \u001b[0;36mquick_execute\u001b[1;34m(op_name, num_outputs, inputs, attrs, ctx, name)\u001b[0m\n\u001b[0;32m     52\u001b[0m \u001b[38;5;28;01mtry\u001b[39;00m:\n\u001b[0;32m     53\u001b[0m   ctx\u001b[38;5;241m.\u001b[39mensure_initialized()\n\u001b[1;32m---> 54\u001b[0m   tensors \u001b[38;5;241m=\u001b[39m \u001b[43mpywrap_tfe\u001b[49m\u001b[38;5;241;43m.\u001b[39;49m\u001b[43mTFE_Py_Execute\u001b[49m\u001b[43m(\u001b[49m\u001b[43mctx\u001b[49m\u001b[38;5;241;43m.\u001b[39;49m\u001b[43m_handle\u001b[49m\u001b[43m,\u001b[49m\u001b[43m \u001b[49m\u001b[43mdevice_name\u001b[49m\u001b[43m,\u001b[49m\u001b[43m \u001b[49m\u001b[43mop_name\u001b[49m\u001b[43m,\u001b[49m\n\u001b[0;32m     55\u001b[0m \u001b[43m                                      \u001b[49m\u001b[43minputs\u001b[49m\u001b[43m,\u001b[49m\u001b[43m \u001b[49m\u001b[43mattrs\u001b[49m\u001b[43m,\u001b[49m\u001b[43m \u001b[49m\u001b[43mnum_outputs\u001b[49m\u001b[43m)\u001b[49m\n\u001b[0;32m     56\u001b[0m \u001b[38;5;28;01mexcept\u001b[39;00m core\u001b[38;5;241m.\u001b[39m_NotOkStatusException \u001b[38;5;28;01mas\u001b[39;00m e:\n\u001b[0;32m     57\u001b[0m   \u001b[38;5;28;01mif\u001b[39;00m name \u001b[38;5;129;01mis\u001b[39;00m \u001b[38;5;129;01mnot\u001b[39;00m \u001b[38;5;28;01mNone\u001b[39;00m:\n",
      "\u001b[1;31mKeyboardInterrupt\u001b[0m: "
     ]
    }
   ],
   "source": [
    "x_train, x_test, y_train, y_test = train_test_split(x, y, test_size=0.2, random_state=42)\n",
    "model_calosc_danych_bez_dodatku =build_and_compile_model_input(3)\n",
    "model_calosc_danych_bez_dodatku.fit(x_train, y_train, epochs=EPOCHS, batch_size=BATCH_SIZE, callbacks=callbacks)\n",
    "model_calosc_danych_bez_dodatku.save(\"../Modele/11_12_testowanie/model_calosc_bez_dodatku\")"
   ]
  },
  {
   "cell_type": "markdown",
   "metadata": {},
   "source": [
    "# model 4 input"
   ]
  },
  {
   "cell_type": "code",
   "execution_count": null,
   "metadata": {},
   "outputs": [],
   "source": [
    "dataset = DATASET_CALOSC\n",
    "x=dataset.drop(columns=\"Przeplyw\")\n",
    "y=dataset.drop(columns=\"Dzien_tygodnia\")\n",
    "y=y.drop(columns=\"Czas_dnia\")\n",
    "y=y.drop(columns=\"Tyg_zuzycie\")\n",
    "y=y.drop(columns=\"Pora_roku\")"
   ]
  },
  {
   "cell_type": "code",
   "execution_count": null,
   "metadata": {},
   "outputs": [],
   "source": [
    "x_train, x_test, y_train, y_test = train_test_split(x, y, test_size=0.2, random_state=42)\n",
    "model_calosc_danych_z_dodatku =build_and_compile_model_input(4)\n",
    "model_calosc_danych_z_dodatku.fit(x_train, y_train, epochs=EPOCHS, batch_size=BATCH_SIZE, callbacks=callbacks)\n",
    "model_calosc_danych_z_dodatku.save(\"../Modele/11_12_testowanie/model_calosc_z_dodatku\")"
   ]
  },
  {
   "cell_type": "markdown",
   "metadata": {},
   "source": [
    "# model 2 input"
   ]
  },
  {
   "cell_type": "code",
   "execution_count": null,
   "metadata": {},
   "outputs": [],
   "source": [
    "dataset = DATASET_CALOSC\n",
    "x=dataset.drop(columns=\"Przeplyw\")\n",
    "x=dataset.drop(columns=\"Pora_roku\")\n",
    "y=dataset.drop(columns=\"Dzien_tygodnia\")\n",
    "y=y.drop(columns=\"Czas_dnia\")\n",
    "y=y.drop(columns=\"Tyg_zuzycie\")\n",
    "y=y.drop(columns=\"Pora_roku\")"
   ]
  },
  {
   "cell_type": "code",
   "execution_count": null,
   "metadata": {},
   "outputs": [],
   "source": [
    "x_train, x_test, y_train, y_test = train_test_split(x, y, test_size=0.2, random_state=42)\n",
    "model_calosc_danych_bez_pory_roku =build_and_compile_model_input(2)\n",
    "model_calosc_danych_bez_pory_roku.fit(x_train, y_train, epochs=EPOCHS, batch_size=BATCH_SIZE, callbacks=callbacks)\n",
    "model_calosc_danych_bez_pory_roku.save(\"../Modele/11_12_testowanie/model_calosc_bez_pory_roku\")"
   ]
  },
  {
   "cell_type": "markdown",
   "metadata": {},
   "source": [
    "# Porównanie"
   ]
  },
  {
   "cell_type": "code",
   "execution_count": null,
   "metadata": {},
   "outputs": [],
   "source": [
    "def prep_data(data):\n",
    "    data=data.drop(columns=\"Tyg_zuzycie\")\n",
    "    data['Czas_dnia'] = data['Czas_dnia'] \n",
    "    x=data.drop(columns=\"Przeplyw\")\n",
    "    y=data.drop(columns=\"Dzien_tygodnia\")\n",
    "    y=y.drop(columns=\"Czas_dnia\")\n",
    "    y=y.drop(columns=\"Pora_roku\")\n",
    "    return [x,y]"
   ]
  },
  {
   "cell_type": "code",
   "execution_count": null,
   "metadata": {},
   "outputs": [],
   "source": [
    "fig_1, axs_1 = plt.subplots(2, 6,figsize=(25, 6))\n",
    "fig_1.suptitle('input(Pora roku, Dzień tygodnia, Pora dnia)')\n",
    "\n",
    "fig_2, axs_2 = plt.subplots(2, 6,figsize=(25, 6))\n",
    "fig_2.suptitle('input(Pora roku, Dzień tygodnia, Pora dnia, średnie zuzycie wody w tygodniu)')\n",
    "\n",
    "fig_3, axs_3 = plt.subplots(2, 6,figsize=(25, 6))\n",
    "fig_3.suptitle('input(Pora roku, Dzień tygodnia, Pora dnia, średnie zuzycie wody w tygodniu)')\n",
    "\n",
    "fig_4, axs_4 = plt.subplots(2, 6,figsize=(25, 6))\n",
    "fig_4.suptitle('input(Dzień tygodnia, Pora dnia)')\n",
    "\n",
    "path = os.getcwd() \n",
    "csv_files = glob.glob(os.path.join(path, '../Dane/data_nowe/dane_przetworzone/12_wybranych/*.csv')) \n",
    "i=0;\n",
    "k=0;\n",
    "model_number=0\n",
    "for f in csv_files: \n",
    "    dataset = pd.read_csv(f) \n",
    "    [x,y]=prep_data(dataset) \n",
    "\n",
    "    x_train, x_test, y_train, y_test = train_test_split(x, y, test_size=0.2, random_state=42)\n",
    "    model_temp =build_and_compile_model_input(3)\n",
    "    model_temp.fit(x_train, y_train, epochs=EPOCHS, batch_size=BATCH_SIZE, callbacks=callbacks)\n",
    "    model_temp.save(\"../Modele/11_12_testowanie/input3/model_calosc_z_dodatku_\"+str(model_number))\n",
    "    output_1=model_temp.predict(input_3)\n",
    "\n",
    "    axs_1[k,i].plot(input_3_plot, output_1.reshape(1440),label='Model szczególny')\n",
    "    output_2=model_calosc_danych_bez_dodatku.predict(input_3)\n",
    "    axs_1[k,i].plot(input_3_plot, output_2.reshape(1440),label='Model ogolny')\n",
    "    axs_1[k,i].set_xlim(0, 1)\n",
    "    mse=mean_squared_error(output_1,output_2)\n",
    "    axs_1[k,i].set_title(\"mse: \"+ str(mse))\n",
    "    axs_1[k,i].legend()\n",
    "\n",
    "    result = dataset.loc[(dataset['Dzien_tygodnia'] == 2) & (dataset['Pora_roku'] == 2),\"Tyg_zuzycie\"]\n",
    "    input_4=np.vstack((k*np.ones_like(input_3_plot, dtype=int), i*np.ones_like(input_3_plot, dtype=int), input_3_plot, result.loc[0]*np.ones_like(input_3_plot, dtype=int))).T\n",
    "    axs_2[k,i].plot(input_3_plot, output_1.reshape(1440),label='Model szczególny')\n",
    "    output_2=model_calosc_danych_z_dodatku.predict(input_4)\n",
    "    axs_2[k,i].plot(input_3_plot, output_2.reshape(1440),label='Model ogolny')\n",
    "    axs_2[k,i].set_xlim(0, 1)\n",
    "    mse=mean_squared_error(output_1,output_2)\n",
    "    axs_2[k,i].set_title(\"mse: \"+str(mse))\n",
    "    axs_2[k,i].legend()\n",
    "\n",
    "\n",
    "    result = dataset.loc[(dataset['Dzien_tygodnia'] == 2) & (dataset['Pora_roku'] == 2),\"Tyg_zuzycie\"]\n",
    "    input_4=np.vstack((k*np.ones_like(input_3_plot, dtype=int), i*np.ones_like(input_3_plot, dtype=int), input_3_plot, result.mean()*np.ones_like(input_3_plot, dtype=int))).T\n",
    "    axs_3[k,i].plot(input_3_plot, output_1.reshape(1440),label='Model szczególny')\n",
    "    output_2=model_calosc_danych_z_dodatku.predict(input_4)\n",
    "    axs_3[k,i].plot(input_3_plot, output_2.reshape(1440),label='Model ogolny')\n",
    "    axs_3[k,i].set_xlim(0, 1)\n",
    "    mse=mean_squared_error(output_1,output_2)\n",
    "    axs_3[k,i].set_title(\"mse: \"+str(mse))\n",
    "    axs_3[k,i].legend()\n",
    "\n",
    "    result = dataset.loc[(dataset['Dzien_tygodnia'] == 2) & (dataset['Pora_roku'] == 2),\"Tyg_zuzycie\"]\n",
    "    input_4=np.vstack((i*np.ones_like(input_3_plot, dtype=int), input_3_plot)).T\n",
    "    axs_3[k,i].plot(input_3_plot, output_1.reshape(1440),label='Model szczególny')\n",
    "    output_3=model_calosc_danych_bez_pory_roku.predict(input_4)\n",
    "    axs_3[k,i].plot(input_3_plot, output_3.reshape(1440),label='Model ogolny')\n",
    "    axs_3[k,i].set_xlim(0, 1)\n",
    "    mse=mean_squared_error(output_1,output_3)\n",
    "    axs_3[k,i].set_title(\"mse: \"+str(mse))\n",
    "    axs_3[k,i].legend()\n",
    "\n",
    "    i+=1\n",
    "    model_number+=1\n",
    "    if i==7:\n",
    "        k=1\n",
    "        i=0\n",
    "\n",
    "\n",
    "\n",
    "\n",
    "plt.tight_layout()\n",
    "\n",
    "plt.show()\n"
   ]
  }
 ],
 "metadata": {
  "kernelspec": {
   "display_name": "tf_test",
   "language": "python",
   "name": "python3"
  },
  "language_info": {
   "codemirror_mode": {
    "name": "ipython",
    "version": 3
   },
   "file_extension": ".py",
   "mimetype": "text/x-python",
   "name": "python",
   "nbconvert_exporter": "python",
   "pygments_lexer": "ipython3",
   "version": "3.9.18"
  }
 },
 "nbformat": 4,
 "nbformat_minor": 2
}
