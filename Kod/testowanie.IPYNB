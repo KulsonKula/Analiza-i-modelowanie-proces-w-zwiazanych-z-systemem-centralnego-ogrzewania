{
 "cells": [
  {
   "cell_type": "code",
   "execution_count": 20,
   "metadata": {},
   "outputs": [
    {
     "name": "stdout",
     "output_type": "stream",
     "text": [
      "2.10.0\n"
     ]
    }
   ],
   "source": [
    "from tensorflow.keras.callbacks import LearningRateScheduler, TensorBoard\n",
    "from sklearn.model_selection import train_test_split\n",
    "from sklearn.metrics import mean_squared_error\n",
    "import matplotlib.pyplot as plt\n",
    "import tensorflow as tf\n",
    "import pandas as pd\n",
    "import numpy as np\n",
    "import warnings\n",
    "import glob \n",
    "import os \n",
    "\n",
    "# Make NumPy printouts easier to read.\n",
    "np.set_printoptions(precision=5, suppress=True)\n",
    "warnings.filterwarnings(\"ignore\")\n",
    "\n",
    "print(tf.__version__)"
   ]
  },
  {
   "cell_type": "code",
   "execution_count": 21,
   "metadata": {},
   "outputs": [
    {
     "name": "stdout",
     "output_type": "stream",
     "text": [
      "Num GPUs Available:  1\n"
     ]
    }
   ],
   "source": [
    "print(\"Num GPUs Available: \", len(tf.config.list_physical_devices('GPU')))"
   ]
  },
  {
   "cell_type": "code",
   "execution_count": 22,
   "metadata": {},
   "outputs": [],
   "source": [
    "def custom_scheduler(epoch, lr):\n",
    "    if epoch < 4:\n",
    "        return lr\n",
    "    else:\n",
    "        return lr * tf.math.exp(-0.1)\n",
    "\n",
    "\n",
    "def build_and_compile_model_input(k):\n",
    "      model = tf.keras.models.Sequential([\n",
    "          tf.keras.layers.Dense(512, activation='relu', input_shape=(k,)),\n",
    "          tf.keras.layers.Dense(256, activation='relu'),\n",
    "          tf.keras.layers.Dense(128, activation='relu'),\n",
    "          tf.keras.layers.Dense(64, activation='relu'),\n",
    "          # tf.keras.layers.Dense(32, activation='relu'),\n",
    "          tf.keras.layers.Dense(1,activation='linear') \n",
    "    ])\n",
    "\n",
    "      model.compile(optimizer=tf.optimizers.Adam(learning_rate=0.001),\n",
    "                    loss=\"mse\",\n",
    "                    metrics=['mae'])\n",
    "      return model\n",
    "\n",
    "scheduler = LearningRateScheduler(custom_scheduler)\n",
    "tensorboard = TensorBoard(log_dir='./logs', histogram_freq=1)\n",
    "callbacks = [scheduler, tensorboard]\n",
    "\n",
    "EPOCHS = 40\n",
    "BATCH_SIZE=64\n",
    "\n",
    "DATASET_CALOSC=pd.read_csv('../Dane/data_nowe/dane_przetworzone/12_wybranych/plik_1.csv')\n"
   ]
  },
  {
   "cell_type": "code",
   "execution_count": 23,
   "metadata": {},
   "outputs": [],
   "source": [
    "input_3_plot=np.arange(0,100,100/1440) \n",
    "input_3=np.vstack((2*np.ones_like(input_3_plot, dtype=int),2*np.ones_like(input_3_plot, dtype=int),input_3_plot)).T"
   ]
  },
  {
   "cell_type": "code",
   "execution_count": 24,
   "metadata": {},
   "outputs": [
    {
     "data": {
      "text/html": [
       "<div>\n",
       "<style scoped>\n",
       "    .dataframe tbody tr th:only-of-type {\n",
       "        vertical-align: middle;\n",
       "    }\n",
       "\n",
       "    .dataframe tbody tr th {\n",
       "        vertical-align: top;\n",
       "    }\n",
       "\n",
       "    .dataframe thead th {\n",
       "        text-align: right;\n",
       "    }\n",
       "</style>\n",
       "<table border=\"1\" class=\"dataframe\">\n",
       "  <thead>\n",
       "    <tr style=\"text-align: right;\">\n",
       "      <th></th>\n",
       "      <th>Pora_roku</th>\n",
       "      <th>Dzien_tygodnia</th>\n",
       "      <th>Czas_dnia</th>\n",
       "      <th>Przeplyw</th>\n",
       "      <th>Tyg_zuzycie</th>\n",
       "    </tr>\n",
       "  </thead>\n",
       "  <tbody>\n",
       "    <tr>\n",
       "      <th>0</th>\n",
       "      <td>2</td>\n",
       "      <td>1</td>\n",
       "      <td>0.000000</td>\n",
       "      <td>0.0</td>\n",
       "      <td>627.5</td>\n",
       "    </tr>\n",
       "    <tr>\n",
       "      <th>1</th>\n",
       "      <td>2</td>\n",
       "      <td>1</td>\n",
       "      <td>0.000694</td>\n",
       "      <td>0.0</td>\n",
       "      <td>627.5</td>\n",
       "    </tr>\n",
       "    <tr>\n",
       "      <th>2</th>\n",
       "      <td>2</td>\n",
       "      <td>1</td>\n",
       "      <td>0.001389</td>\n",
       "      <td>0.0</td>\n",
       "      <td>627.5</td>\n",
       "    </tr>\n",
       "    <tr>\n",
       "      <th>3</th>\n",
       "      <td>2</td>\n",
       "      <td>1</td>\n",
       "      <td>0.002083</td>\n",
       "      <td>0.0</td>\n",
       "      <td>627.5</td>\n",
       "    </tr>\n",
       "    <tr>\n",
       "      <th>4</th>\n",
       "      <td>2</td>\n",
       "      <td>1</td>\n",
       "      <td>0.002778</td>\n",
       "      <td>0.0</td>\n",
       "      <td>627.5</td>\n",
       "    </tr>\n",
       "    <tr>\n",
       "      <th>...</th>\n",
       "      <td>...</td>\n",
       "      <td>...</td>\n",
       "      <td>...</td>\n",
       "      <td>...</td>\n",
       "      <td>...</td>\n",
       "    </tr>\n",
       "    <tr>\n",
       "      <th>161275</th>\n",
       "      <td>1</td>\n",
       "      <td>7</td>\n",
       "      <td>0.996528</td>\n",
       "      <td>0.0</td>\n",
       "      <td>907.5</td>\n",
       "    </tr>\n",
       "    <tr>\n",
       "      <th>161276</th>\n",
       "      <td>1</td>\n",
       "      <td>7</td>\n",
       "      <td>0.997222</td>\n",
       "      <td>0.0</td>\n",
       "      <td>907.5</td>\n",
       "    </tr>\n",
       "    <tr>\n",
       "      <th>161277</th>\n",
       "      <td>1</td>\n",
       "      <td>7</td>\n",
       "      <td>0.997917</td>\n",
       "      <td>0.0</td>\n",
       "      <td>907.5</td>\n",
       "    </tr>\n",
       "    <tr>\n",
       "      <th>161278</th>\n",
       "      <td>1</td>\n",
       "      <td>7</td>\n",
       "      <td>0.998611</td>\n",
       "      <td>0.0</td>\n",
       "      <td>907.5</td>\n",
       "    </tr>\n",
       "    <tr>\n",
       "      <th>161279</th>\n",
       "      <td>1</td>\n",
       "      <td>7</td>\n",
       "      <td>0.999306</td>\n",
       "      <td>0.0</td>\n",
       "      <td>907.5</td>\n",
       "    </tr>\n",
       "  </tbody>\n",
       "</table>\n",
       "<p>161280 rows × 5 columns</p>\n",
       "</div>"
      ],
      "text/plain": [
       "        Pora_roku  Dzien_tygodnia  Czas_dnia  Przeplyw  Tyg_zuzycie\n",
       "0               2               1   0.000000       0.0        627.5\n",
       "1               2               1   0.000694       0.0        627.5\n",
       "2               2               1   0.001389       0.0        627.5\n",
       "3               2               1   0.002083       0.0        627.5\n",
       "4               2               1   0.002778       0.0        627.5\n",
       "...           ...             ...        ...       ...          ...\n",
       "161275          1               7   0.996528       0.0        907.5\n",
       "161276          1               7   0.997222       0.0        907.5\n",
       "161277          1               7   0.997917       0.0        907.5\n",
       "161278          1               7   0.998611       0.0        907.5\n",
       "161279          1               7   0.999306       0.0        907.5\n",
       "\n",
       "[161280 rows x 5 columns]"
      ]
     },
     "execution_count": 24,
     "metadata": {},
     "output_type": "execute_result"
    }
   ],
   "source": [
    "DATASET_CALOSC"
   ]
  },
  {
   "cell_type": "code",
   "execution_count": 25,
   "metadata": {},
   "outputs": [
    {
     "data": {
      "text/plain": [
       "Pora_roku           int64\n",
       "Dzien_tygodnia      int64\n",
       "Czas_dnia         float64\n",
       "Przeplyw          float64\n",
       "Tyg_zuzycie       float64\n",
       "dtype: object"
      ]
     },
     "execution_count": 25,
     "metadata": {},
     "output_type": "execute_result"
    }
   ],
   "source": [
    "DATASET_CALOSC.dtypes"
   ]
  },
  {
   "cell_type": "code",
   "execution_count": 26,
   "metadata": {},
   "outputs": [],
   "source": [
    "dataset = DATASET_CALOSC\n",
    "dataset=dataset.drop(columns=\"Tyg_zuzycie\")\n",
    "x=dataset.drop(columns=\"Przeplyw\")\n",
    "y=dataset.drop(columns=\"Dzien_tygodnia\")\n",
    "y=y.drop(columns=\"Czas_dnia\")\n",
    "y=y.drop(columns=\"Pora_roku\")"
   ]
  },
  {
   "cell_type": "code",
   "execution_count": 27,
   "metadata": {},
   "outputs": [],
   "source": [
    "x=np.array(x)\n",
    "y=np.array(y)"
   ]
  },
  {
   "cell_type": "code",
   "execution_count": 28,
   "metadata": {},
   "outputs": [
    {
     "name": "stdout",
     "output_type": "stream",
     "text": [
      "Epoch 1/40\n",
      "2016/2016 [==============================] - 8s 4ms/step - loss: 0.7021 - mae: 0.1633 - lr: 0.0010\n",
      "Epoch 2/40\n",
      "2016/2016 [==============================] - 9s 5ms/step - loss: 0.6998 - mae: 0.1646 - lr: 0.0010\n",
      "Epoch 3/40\n",
      "2016/2016 [==============================] - 8s 4ms/step - loss: 0.6989 - mae: 0.1646 - lr: 0.0010\n",
      "Epoch 4/40\n",
      "2016/2016 [==============================] - 10s 5ms/step - loss: 0.6980 - mae: 0.1647 - lr: 0.0010\n",
      "Epoch 5/40\n",
      "2016/2016 [==============================] - 9s 5ms/step - loss: 0.6964 - mae: 0.1639 - lr: 9.0484e-04\n",
      "Epoch 6/40\n",
      "2016/2016 [==============================] - 8s 4ms/step - loss: 0.6948 - mae: 0.1632 - lr: 8.1873e-04\n",
      "Epoch 7/40\n",
      "2016/2016 [==============================] - 9s 5ms/step - loss: 0.6928 - mae: 0.1638 - lr: 7.4082e-04\n",
      "Epoch 8/40\n",
      "2016/2016 [==============================] - 8s 4ms/step - loss: 0.6919 - mae: 0.1649 - lr: 6.7032e-04\n",
      "Epoch 9/40\n",
      "2016/2016 [==============================] - 9s 5ms/step - loss: 0.6902 - mae: 0.1636 - lr: 6.0653e-04\n",
      "Epoch 10/40\n",
      "2016/2016 [==============================] - 8s 4ms/step - loss: 0.6894 - mae: 0.1634 - lr: 5.4881e-04\n",
      "Epoch 11/40\n",
      "2016/2016 [==============================] - 8s 4ms/step - loss: 0.6891 - mae: 0.1645 - lr: 4.9659e-04\n",
      "Epoch 12/40\n",
      "2016/2016 [==============================] - 8s 4ms/step - loss: 0.6884 - mae: 0.1639 - lr: 4.4933e-04\n",
      "Epoch 13/40\n",
      "2016/2016 [==============================] - 9s 5ms/step - loss: 0.6880 - mae: 0.1635 - lr: 4.0657e-04\n",
      "Epoch 14/40\n",
      "2016/2016 [==============================] - 8s 4ms/step - loss: 0.6872 - mae: 0.1634 - lr: 3.6788e-04\n",
      "Epoch 15/40\n",
      "2016/2016 [==============================] - 9s 5ms/step - loss: 0.6868 - mae: 0.1623 - lr: 3.3287e-04\n",
      "Epoch 16/40\n",
      "2016/2016 [==============================] - 8s 4ms/step - loss: 0.6862 - mae: 0.1629 - lr: 3.0119e-04\n",
      "Epoch 17/40\n",
      "2016/2016 [==============================] - 10s 5ms/step - loss: 0.6855 - mae: 0.1632 - lr: 2.7253e-04\n",
      "Epoch 18/40\n",
      "2016/2016 [==============================] - 8s 4ms/step - loss: 0.6850 - mae: 0.1621 - lr: 2.4660e-04\n",
      "Epoch 19/40\n",
      "2016/2016 [==============================] - 9s 5ms/step - loss: 0.6845 - mae: 0.1620 - lr: 2.2313e-04\n",
      "Epoch 20/40\n",
      "2016/2016 [==============================] - 8s 4ms/step - loss: 0.6842 - mae: 0.1610 - lr: 2.0190e-04\n",
      "Epoch 21/40\n",
      "2016/2016 [==============================] - 8s 4ms/step - loss: 0.6839 - mae: 0.1620 - lr: 1.8268e-04\n",
      "Epoch 22/40\n",
      "2016/2016 [==============================] - 9s 5ms/step - loss: 0.6836 - mae: 0.1608 - lr: 1.6530e-04\n",
      "Epoch 23/40\n",
      "2016/2016 [==============================] - 8s 4ms/step - loss: 0.6832 - mae: 0.1603 - lr: 1.4957e-04\n",
      "Epoch 24/40\n",
      "2016/2016 [==============================] - 9s 5ms/step - loss: 0.6826 - mae: 0.1620 - lr: 1.3534e-04\n",
      "Epoch 25/40\n",
      "2016/2016 [==============================] - 8s 4ms/step - loss: 0.6824 - mae: 0.1605 - lr: 1.2246e-04\n",
      "Epoch 26/40\n",
      "2016/2016 [==============================] - 9s 5ms/step - loss: 0.6824 - mae: 0.1604 - lr: 1.1080e-04\n",
      "Epoch 27/40\n",
      "2016/2016 [==============================] - 8s 4ms/step - loss: 0.6820 - mae: 0.1599 - lr: 1.0026e-04\n",
      "Epoch 28/40\n",
      "2016/2016 [==============================] - 9s 5ms/step - loss: 0.6818 - mae: 0.1596 - lr: 9.0718e-05\n",
      "Epoch 29/40\n",
      "2016/2016 [==============================] - 9s 5ms/step - loss: 0.6816 - mae: 0.1609 - lr: 8.2085e-05\n",
      "Epoch 30/40\n",
      "2016/2016 [==============================] - 8s 4ms/step - loss: 0.6814 - mae: 0.1601 - lr: 7.4273e-05\n",
      "Epoch 31/40\n",
      "2016/2016 [==============================] - 9s 5ms/step - loss: 0.6813 - mae: 0.1601 - lr: 6.7205e-05\n",
      "Epoch 32/40\n",
      "2016/2016 [==============================] - 8s 4ms/step - loss: 0.6811 - mae: 0.1602 - lr: 6.0810e-05\n",
      "Epoch 33/40\n",
      "2016/2016 [==============================] - 9s 5ms/step - loss: 0.6809 - mae: 0.1590 - lr: 5.5023e-05\n",
      "Epoch 34/40\n",
      "2016/2016 [==============================] - 8s 4ms/step - loss: 0.6807 - mae: 0.1592 - lr: 4.9787e-05\n",
      "Epoch 35/40\n",
      "2016/2016 [==============================] - 8s 4ms/step - loss: 0.6807 - mae: 0.1597 - lr: 4.5049e-05\n",
      "Epoch 36/40\n",
      "2016/2016 [==============================] - 9s 5ms/step - loss: 0.6806 - mae: 0.1592 - lr: 4.0762e-05\n",
      "Epoch 37/40\n",
      "2016/2016 [==============================] - 8s 4ms/step - loss: 0.6804 - mae: 0.1595 - lr: 3.6883e-05\n",
      "Epoch 38/40\n",
      "2016/2016 [==============================] - 9s 5ms/step - loss: 0.6803 - mae: 0.1593 - lr: 3.3373e-05\n",
      "Epoch 39/40\n",
      "2016/2016 [==============================] - 8s 4ms/step - loss: 0.6802 - mae: 0.1588 - lr: 3.0197e-05\n",
      "Epoch 40/40\n",
      "2016/2016 [==============================] - 8s 4ms/step - loss: 0.6801 - mae: 0.1593 - lr: 2.7324e-05\n"
     ]
    },
    {
     "data": {
      "text/plain": [
       "<keras.callbacks.History at 0x19a3e06f9a0>"
      ]
     },
     "execution_count": 28,
     "metadata": {},
     "output_type": "execute_result"
    }
   ],
   "source": [
    "x_train, x_test, y_train, y_test = train_test_split(x, y, test_size=0.2, random_state=42)\n",
    "model_calosc_danych_bez_dodatku =build_and_compile_model_input(3)\n",
    "model_calosc_danych_bez_dodatku.fit(x_train, y_train, epochs=EPOCHS, batch_size=BATCH_SIZE, callbacks=callbacks)\n",
    "# model_calosc_danych_bez_dodatku.save(\"../Modele/11_12_testowanie/model_calosc_bez_dodatku\")"
   ]
  },
  {
   "cell_type": "code",
   "execution_count": 29,
   "metadata": {},
   "outputs": [
    {
     "name": "stdout",
     "output_type": "stream",
     "text": [
      "45/45 [==============================] - 0s 1ms/step\n"
     ]
    },
    {
     "data": {
      "text/plain": [
       "[<matplotlib.lines.Line2D at 0x1989102acd0>]"
      ]
     },
     "execution_count": 29,
     "metadata": {},
     "output_type": "execute_result"
    },
    {
     "data": {
      "image/png": "[encoded data removed]",
      "text/plain": [
       "<Figure size 640x480 with 1 Axes>"
      ]
     },
     "metadata": {},
     "output_type": "display_data"
    }
   ],
   "source": [
    "flow_time_plot=np.arange(0,100,100/1440) \n",
    "flow_time=np.vstack((1*np.ones_like(flow_time_plot, dtype=int),1*np.ones_like(flow_time_plot),flow_time_plot)).T\n",
    "flow_result = model_calosc_danych_bez_dodatku.predict(flow_time)\n",
    "\n",
    "plt.plot(flow_time_plot, flow_result)"
   ]
  }
 ],
 "metadata": {
  "kernelspec": {
   "display_name": "tf_test",
   "language": "python",
   "name": "python3"
  },
  "language_info": {
   "codemirror_mode": {
    "name": "ipython",
    "version": 3
   },
   "file_extension": ".py",
   "mimetype": "text/x-python",
   "name": "python",
   "nbconvert_exporter": "python",
   "pygments_lexer": "ipython3",
   "version": "3.9.18"
  }
 },
 "nbformat": 4,
 "nbformat_minor": 2
}
